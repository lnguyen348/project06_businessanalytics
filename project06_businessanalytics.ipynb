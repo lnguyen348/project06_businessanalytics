{
 "cells": [
  {
   "cell_type": "markdown",
   "metadata": {},
   "source": [
    "# Research on marketing expenses optimization\n",
    "> Purpose: to help optimize marketing expenses."
   ]
  },
  {
   "cell_type": "markdown",
   "metadata": {},
   "source": [
    "# Summary\n",
    "\n",
    "An investigation was conducted to help optimize marketing expenses. Based on the data given, on average there are 907 daily active users, 5716 weekly active users as well as 5716 monthly active users. Of those respective active users, the device utilized the most are desktop users. Additionally, each user spends roughly one session on the product with each session being about 60 seconds in duration. Users are about 16% likely to return every week and about 4% likely to return every month. In particular, it looks like people start buying products during October, November, and December. This could be due to purchasing products that are seasonal for popular holidays during those months such as Halloween, Thanksgiving, or Christmas. Coincidentally, the data shows that the average number of orders made over a period of time by an individual is between one to two. Accordingly, the average purchase size is around \\\\$14.00. Users are responding the most to ad source #4 followed by #3, #5, #2 and this is also evident in the months with the most visits as well as the months with the most revenue generated.\n",
    "\n",
    "Overall expenses spent on the ads was \\\\$329,131.62. Over time, money spent on ads began to increase in August 2017. The most money being expended in ads was between October 2017 and December 2017. Afterward, ad expenses begin to fall and stabilize beginning of April 2018. The data showed that most expenses were allocated to ad source #3. Furthermore, acquiring each customer costs an average of \\\\$9.15 while each customer spends about \\\\$3.64 in their lifetime with regards to using/buying the company's product. In spite of this fact, the report shows that investments in marketing is unprofitable due to CAC exceeds LTV. None of the cohorts display signs of the ROMI paying off&mdash;there is a significant decrease in ROMI by the next month of each cohort.\n",
    "\n",
    "To this end, the following is suggested to help optimize marketing expenses: more money should be allocated to ad source #4 and more ads should be executed throughout October, November, and December."
   ]
  },
  {
   "cell_type": "markdown",
   "metadata": {},
   "source": [
    "## Open the data file and study the general information"
   ]
  },
  {
   "cell_type": "code",
   "execution_count": 1,
   "metadata": {},
   "outputs": [],
   "source": [
    "import pandas as pd\n",
    "import numpy as np\n",
    "import matplotlib.pyplot as plt\n",
    "import seaborn as sns\n",
    "from scipy import stats as st\n",
    "import warnings\n",
    "warnings.filterwarnings('ignore')\n",
    "\n",
    "try:\n",
    "    visits = pd.read_csv(\n",
    "            '/datasets/visits_log_us.csv',\n",
    "            dtype={'Device': 'category'},\n",
    "            parse_dates=['Start Ts', 'End Ts'])\n",
    "    orders = pd.read_csv(\n",
    "            '/datasets/orders_log_us.csv',\n",
    "            parse_dates=['Buy Ts'])\n",
    "    costs = pd.read_csv(\n",
    "            '/datasets/costs_us.csv',\n",
    "            parse_dates=['dt'])\n",
    "except:\n",
    "    visits = pd.read_csv(\n",
    "            'visits_log_us.csv',\n",
    "            dtype={'Device': 'category'},\n",
    "            parse_dates=['Start Ts', 'End Ts'])\n",
    "    orders = pd.read_csv(\n",
    "            'orders_log_us.csv',\n",
    "            parse_dates=['Buy Ts'])\n",
    "    costs = pd.read_csv(\n",
    "            'costs_us.csv',\n",
    "            parse_dates=['dt'])"
   ]
  },
  {
   "cell_type": "code",
   "execution_count": 2,
   "metadata": {},
   "outputs": [
    {
     "name": "stdout",
     "output_type": "stream",
     "text": [
      "<class 'pandas.core.frame.DataFrame'>\n",
      "RangeIndex: 359400 entries, 0 to 359399\n",
      "Data columns (total 5 columns):\n",
      "Device       359400 non-null category\n",
      "End Ts       359400 non-null datetime64[ns]\n",
      "Source Id    359400 non-null int64\n",
      "Start Ts     359400 non-null datetime64[ns]\n",
      "Uid          359400 non-null uint64\n",
      "dtypes: category(1), datetime64[ns](2), int64(1), uint64(1)\n",
      "memory usage: 11.3 MB\n"
     ]
    },
    {
     "data": {
      "text/html": [
       "<div>\n",
       "<style scoped>\n",
       "    .dataframe tbody tr th:only-of-type {\n",
       "        vertical-align: middle;\n",
       "    }\n",
       "\n",
       "    .dataframe tbody tr th {\n",
       "        vertical-align: top;\n",
       "    }\n",
       "\n",
       "    .dataframe thead th {\n",
       "        text-align: right;\n",
       "    }\n",
       "</style>\n",
       "<table border=\"1\" class=\"dataframe\">\n",
       "  <thead>\n",
       "    <tr style=\"text-align: right;\">\n",
       "      <th></th>\n",
       "      <th>Device</th>\n",
       "      <th>End Ts</th>\n",
       "      <th>Source Id</th>\n",
       "      <th>Start Ts</th>\n",
       "      <th>Uid</th>\n",
       "    </tr>\n",
       "  </thead>\n",
       "  <tbody>\n",
       "    <tr>\n",
       "      <td>0</td>\n",
       "      <td>touch</td>\n",
       "      <td>2017-12-20 17:38:00</td>\n",
       "      <td>4</td>\n",
       "      <td>2017-12-20 17:20:00</td>\n",
       "      <td>16879256277535980062</td>\n",
       "    </tr>\n",
       "    <tr>\n",
       "      <td>1</td>\n",
       "      <td>desktop</td>\n",
       "      <td>2018-02-19 17:21:00</td>\n",
       "      <td>2</td>\n",
       "      <td>2018-02-19 16:53:00</td>\n",
       "      <td>104060357244891740</td>\n",
       "    </tr>\n",
       "    <tr>\n",
       "      <td>2</td>\n",
       "      <td>touch</td>\n",
       "      <td>2017-07-01 01:54:00</td>\n",
       "      <td>5</td>\n",
       "      <td>2017-07-01 01:54:00</td>\n",
       "      <td>7459035603376831527</td>\n",
       "    </tr>\n",
       "    <tr>\n",
       "      <td>3</td>\n",
       "      <td>desktop</td>\n",
       "      <td>2018-05-20 11:23:00</td>\n",
       "      <td>9</td>\n",
       "      <td>2018-05-20 10:59:00</td>\n",
       "      <td>16174680259334210214</td>\n",
       "    </tr>\n",
       "    <tr>\n",
       "      <td>4</td>\n",
       "      <td>desktop</td>\n",
       "      <td>2017-12-27 14:06:00</td>\n",
       "      <td>3</td>\n",
       "      <td>2017-12-27 14:06:00</td>\n",
       "      <td>9969694820036681168</td>\n",
       "    </tr>\n",
       "    <tr>\n",
       "      <td>5</td>\n",
       "      <td>desktop</td>\n",
       "      <td>2017-09-03 21:36:00</td>\n",
       "      <td>5</td>\n",
       "      <td>2017-09-03 21:35:00</td>\n",
       "      <td>16007536194108375387</td>\n",
       "    </tr>\n",
       "    <tr>\n",
       "      <td>6</td>\n",
       "      <td>desktop</td>\n",
       "      <td>2018-01-30 12:09:00</td>\n",
       "      <td>1</td>\n",
       "      <td>2018-01-30 11:13:00</td>\n",
       "      <td>6661610529277171451</td>\n",
       "    </tr>\n",
       "    <tr>\n",
       "      <td>7</td>\n",
       "      <td>touch</td>\n",
       "      <td>2017-11-05 15:15:00</td>\n",
       "      <td>3</td>\n",
       "      <td>2017-11-05 15:14:00</td>\n",
       "      <td>11423865690854540312</td>\n",
       "    </tr>\n",
       "    <tr>\n",
       "      <td>8</td>\n",
       "      <td>desktop</td>\n",
       "      <td>2017-07-19 10:44:00</td>\n",
       "      <td>3</td>\n",
       "      <td>2017-07-19 10:41:00</td>\n",
       "      <td>2987360259350925644</td>\n",
       "    </tr>\n",
       "    <tr>\n",
       "      <td>9</td>\n",
       "      <td>desktop</td>\n",
       "      <td>2017-11-08 13:43:00</td>\n",
       "      <td>5</td>\n",
       "      <td>2017-11-08 13:42:00</td>\n",
       "      <td>1289240080042562063</td>\n",
       "    </tr>\n",
       "  </tbody>\n",
       "</table>\n",
       "</div>"
      ],
      "text/plain": [
       "    Device              End Ts  Source Id            Start Ts  \\\n",
       "0    touch 2017-12-20 17:38:00          4 2017-12-20 17:20:00   \n",
       "1  desktop 2018-02-19 17:21:00          2 2018-02-19 16:53:00   \n",
       "2    touch 2017-07-01 01:54:00          5 2017-07-01 01:54:00   \n",
       "3  desktop 2018-05-20 11:23:00          9 2018-05-20 10:59:00   \n",
       "4  desktop 2017-12-27 14:06:00          3 2017-12-27 14:06:00   \n",
       "5  desktop 2017-09-03 21:36:00          5 2017-09-03 21:35:00   \n",
       "6  desktop 2018-01-30 12:09:00          1 2018-01-30 11:13:00   \n",
       "7    touch 2017-11-05 15:15:00          3 2017-11-05 15:14:00   \n",
       "8  desktop 2017-07-19 10:44:00          3 2017-07-19 10:41:00   \n",
       "9  desktop 2017-11-08 13:43:00          5 2017-11-08 13:42:00   \n",
       "\n",
       "                    Uid  \n",
       "0  16879256277535980062  \n",
       "1    104060357244891740  \n",
       "2   7459035603376831527  \n",
       "3  16174680259334210214  \n",
       "4   9969694820036681168  \n",
       "5  16007536194108375387  \n",
       "6   6661610529277171451  \n",
       "7  11423865690854540312  \n",
       "8   2987360259350925644  \n",
       "9   1289240080042562063  "
      ]
     },
     "execution_count": 2,
     "metadata": {},
     "output_type": "execute_result"
    }
   ],
   "source": [
    "visits.info(memory_usage='deep')\n",
    "visits.head(10)"
   ]
  },
  {
   "cell_type": "code",
   "execution_count": 3,
   "metadata": {},
   "outputs": [
    {
     "name": "stdout",
     "output_type": "stream",
     "text": [
      "<class 'pandas.core.frame.DataFrame'>\n",
      "RangeIndex: 50415 entries, 0 to 50414\n",
      "Data columns (total 3 columns):\n",
      "Buy Ts     50415 non-null datetime64[ns]\n",
      "Revenue    50415 non-null float64\n",
      "Uid        50415 non-null uint64\n",
      "dtypes: datetime64[ns](1), float64(1), uint64(1)\n",
      "memory usage: 1.2 MB\n"
     ]
    },
    {
     "data": {
      "text/html": [
       "<div>\n",
       "<style scoped>\n",
       "    .dataframe tbody tr th:only-of-type {\n",
       "        vertical-align: middle;\n",
       "    }\n",
       "\n",
       "    .dataframe tbody tr th {\n",
       "        vertical-align: top;\n",
       "    }\n",
       "\n",
       "    .dataframe thead th {\n",
       "        text-align: right;\n",
       "    }\n",
       "</style>\n",
       "<table border=\"1\" class=\"dataframe\">\n",
       "  <thead>\n",
       "    <tr style=\"text-align: right;\">\n",
       "      <th></th>\n",
       "      <th>Buy Ts</th>\n",
       "      <th>Revenue</th>\n",
       "      <th>Uid</th>\n",
       "    </tr>\n",
       "  </thead>\n",
       "  <tbody>\n",
       "    <tr>\n",
       "      <td>0</td>\n",
       "      <td>2017-06-01 00:10:00</td>\n",
       "      <td>17.00</td>\n",
       "      <td>10329302124590727494</td>\n",
       "    </tr>\n",
       "    <tr>\n",
       "      <td>1</td>\n",
       "      <td>2017-06-01 00:25:00</td>\n",
       "      <td>0.55</td>\n",
       "      <td>11627257723692907447</td>\n",
       "    </tr>\n",
       "    <tr>\n",
       "      <td>2</td>\n",
       "      <td>2017-06-01 00:27:00</td>\n",
       "      <td>0.37</td>\n",
       "      <td>17903680561304213844</td>\n",
       "    </tr>\n",
       "    <tr>\n",
       "      <td>3</td>\n",
       "      <td>2017-06-01 00:29:00</td>\n",
       "      <td>0.55</td>\n",
       "      <td>16109239769442553005</td>\n",
       "    </tr>\n",
       "    <tr>\n",
       "      <td>4</td>\n",
       "      <td>2017-06-01 07:58:00</td>\n",
       "      <td>0.37</td>\n",
       "      <td>14200605875248379450</td>\n",
       "    </tr>\n",
       "    <tr>\n",
       "      <td>5</td>\n",
       "      <td>2017-06-01 08:43:00</td>\n",
       "      <td>0.18</td>\n",
       "      <td>10402394430196413321</td>\n",
       "    </tr>\n",
       "    <tr>\n",
       "      <td>6</td>\n",
       "      <td>2017-06-01 08:54:00</td>\n",
       "      <td>1.83</td>\n",
       "      <td>12464626743129688638</td>\n",
       "    </tr>\n",
       "    <tr>\n",
       "      <td>7</td>\n",
       "      <td>2017-06-01 09:22:00</td>\n",
       "      <td>1.22</td>\n",
       "      <td>3644482766749211722</td>\n",
       "    </tr>\n",
       "    <tr>\n",
       "      <td>8</td>\n",
       "      <td>2017-06-01 09:22:00</td>\n",
       "      <td>3.30</td>\n",
       "      <td>17542070709969841479</td>\n",
       "    </tr>\n",
       "    <tr>\n",
       "      <td>9</td>\n",
       "      <td>2017-06-01 09:23:00</td>\n",
       "      <td>0.37</td>\n",
       "      <td>1074355127080856382</td>\n",
       "    </tr>\n",
       "  </tbody>\n",
       "</table>\n",
       "</div>"
      ],
      "text/plain": [
       "               Buy Ts  Revenue                   Uid\n",
       "0 2017-06-01 00:10:00    17.00  10329302124590727494\n",
       "1 2017-06-01 00:25:00     0.55  11627257723692907447\n",
       "2 2017-06-01 00:27:00     0.37  17903680561304213844\n",
       "3 2017-06-01 00:29:00     0.55  16109239769442553005\n",
       "4 2017-06-01 07:58:00     0.37  14200605875248379450\n",
       "5 2017-06-01 08:43:00     0.18  10402394430196413321\n",
       "6 2017-06-01 08:54:00     1.83  12464626743129688638\n",
       "7 2017-06-01 09:22:00     1.22   3644482766749211722\n",
       "8 2017-06-01 09:22:00     3.30  17542070709969841479\n",
       "9 2017-06-01 09:23:00     0.37   1074355127080856382"
      ]
     },
     "execution_count": 3,
     "metadata": {},
     "output_type": "execute_result"
    }
   ],
   "source": [
    "orders.info(memory_usage='deep')\n",
    "orders.head(10)"
   ]
  },
  {
   "cell_type": "code",
   "execution_count": 4,
   "metadata": {},
   "outputs": [
    {
     "name": "stdout",
     "output_type": "stream",
     "text": [
      "<class 'pandas.core.frame.DataFrame'>\n",
      "RangeIndex: 2542 entries, 0 to 2541\n",
      "Data columns (total 3 columns):\n",
      "source_id    2542 non-null int64\n",
      "dt           2542 non-null datetime64[ns]\n",
      "costs        2542 non-null float64\n",
      "dtypes: datetime64[ns](1), float64(1), int64(1)\n",
      "memory usage: 59.7 KB\n"
     ]
    },
    {
     "data": {
      "text/html": [
       "<div>\n",
       "<style scoped>\n",
       "    .dataframe tbody tr th:only-of-type {\n",
       "        vertical-align: middle;\n",
       "    }\n",
       "\n",
       "    .dataframe tbody tr th {\n",
       "        vertical-align: top;\n",
       "    }\n",
       "\n",
       "    .dataframe thead th {\n",
       "        text-align: right;\n",
       "    }\n",
       "</style>\n",
       "<table border=\"1\" class=\"dataframe\">\n",
       "  <thead>\n",
       "    <tr style=\"text-align: right;\">\n",
       "      <th></th>\n",
       "      <th>source_id</th>\n",
       "      <th>dt</th>\n",
       "      <th>costs</th>\n",
       "    </tr>\n",
       "  </thead>\n",
       "  <tbody>\n",
       "    <tr>\n",
       "      <td>0</td>\n",
       "      <td>1</td>\n",
       "      <td>2017-06-01</td>\n",
       "      <td>75.20</td>\n",
       "    </tr>\n",
       "    <tr>\n",
       "      <td>1</td>\n",
       "      <td>1</td>\n",
       "      <td>2017-06-02</td>\n",
       "      <td>62.25</td>\n",
       "    </tr>\n",
       "    <tr>\n",
       "      <td>2</td>\n",
       "      <td>1</td>\n",
       "      <td>2017-06-03</td>\n",
       "      <td>36.53</td>\n",
       "    </tr>\n",
       "    <tr>\n",
       "      <td>3</td>\n",
       "      <td>1</td>\n",
       "      <td>2017-06-04</td>\n",
       "      <td>55.00</td>\n",
       "    </tr>\n",
       "    <tr>\n",
       "      <td>4</td>\n",
       "      <td>1</td>\n",
       "      <td>2017-06-05</td>\n",
       "      <td>57.08</td>\n",
       "    </tr>\n",
       "    <tr>\n",
       "      <td>5</td>\n",
       "      <td>1</td>\n",
       "      <td>2017-06-06</td>\n",
       "      <td>40.39</td>\n",
       "    </tr>\n",
       "    <tr>\n",
       "      <td>6</td>\n",
       "      <td>1</td>\n",
       "      <td>2017-06-07</td>\n",
       "      <td>40.59</td>\n",
       "    </tr>\n",
       "    <tr>\n",
       "      <td>7</td>\n",
       "      <td>1</td>\n",
       "      <td>2017-06-08</td>\n",
       "      <td>56.63</td>\n",
       "    </tr>\n",
       "    <tr>\n",
       "      <td>8</td>\n",
       "      <td>1</td>\n",
       "      <td>2017-06-09</td>\n",
       "      <td>40.16</td>\n",
       "    </tr>\n",
       "    <tr>\n",
       "      <td>9</td>\n",
       "      <td>1</td>\n",
       "      <td>2017-06-10</td>\n",
       "      <td>43.24</td>\n",
       "    </tr>\n",
       "  </tbody>\n",
       "</table>\n",
       "</div>"
      ],
      "text/plain": [
       "   source_id         dt  costs\n",
       "0          1 2017-06-01  75.20\n",
       "1          1 2017-06-02  62.25\n",
       "2          1 2017-06-03  36.53\n",
       "3          1 2017-06-04  55.00\n",
       "4          1 2017-06-05  57.08\n",
       "5          1 2017-06-06  40.39\n",
       "6          1 2017-06-07  40.59\n",
       "7          1 2017-06-08  56.63\n",
       "8          1 2017-06-09  40.16\n",
       "9          1 2017-06-10  43.24"
      ]
     },
     "execution_count": 4,
     "metadata": {},
     "output_type": "execute_result"
    }
   ],
   "source": [
    "costs.info(memory_usage='deep')\n",
    "costs.head(10)"
   ]
  },
  {
   "cell_type": "markdown",
   "metadata": {},
   "source": [
    "### Conclusion\n",
    "<ul>\n",
    "<li><em>visits</em> dataset: The <em>Device</em> column was changed to the <em>category</em> data type, and the columns <em>Start Ts</em> and <em>End Ts</em> were changed to a date type. This resulted in decreasing memory usage from 13.7+ MB to 11.3 MB. Additionally, there are no observed missing values.</li><br>\n",
    "<li><em>orders</em> dataset: The <em>Buy Ts</em> column was changed to a date type. This resulted in decreasing memory usage from 1.2+ MB to 1.2 MB. Additionally, there are no observed missing values.</li><br>\n",
    "<li><em>costs</em> dataset: There are no missing values observed. The <em>dt</em> column was changed to a date type to attribute using as little memory as possible. This resulted in decreasing memory usage from 206.2 KB to 59.7 KB.</li>\n",
    "</ul>"
   ]
  },
  {
   "cell_type": "markdown",
   "metadata": {},
   "source": [
    "## Data preparation"
   ]
  },
  {
   "cell_type": "code",
   "execution_count": 5,
   "metadata": {},
   "outputs": [
    {
     "name": "stdout",
     "output_type": "stream",
     "text": [
      "Proportion of missing values for visits dataset:\n",
      "Device       0.0\n",
      "End Ts       0.0\n",
      "Source Id    0.0\n",
      "Start Ts     0.0\n",
      "Uid          0.0\n",
      "dtype: float64\n",
      "\n",
      "Proportion of missing values for orders dataset:\n",
      "Buy Ts     0.0\n",
      "Revenue    0.0\n",
      "Uid        0.0\n",
      "dtype: float64\n",
      "\n",
      "Proportion of missing values for costs dataset:\n",
      "source_id    0.0\n",
      "dt           0.0\n",
      "costs        0.0\n",
      "dtype: float64\n"
     ]
    }
   ],
   "source": [
    "# determining proportion of missing values for each dataset\n",
    "print('Proportion of missing values for visits dataset:')\n",
    "print(visits.isna().sum() / visits.shape[0])\n",
    "print()\n",
    "print('Proportion of missing values for orders dataset:')\n",
    "print(orders.isna().sum() / orders.shape[0])\n",
    "print()\n",
    "print('Proportion of missing values for costs dataset:')\n",
    "print(costs.isna().sum() / costs.shape[0])"
   ]
  },
  {
   "cell_type": "code",
   "execution_count": 6,
   "metadata": {},
   "outputs": [
    {
     "name": "stdout",
     "output_type": "stream",
     "text": [
      "visits duplicates:\n",
      "0\n",
      "\n",
      "orders duplicates:\n",
      "0\n",
      "\n",
      "costs duplicates:\n",
      "0\n"
     ]
    }
   ],
   "source": [
    "# checking for duplicates\n",
    "print('visits duplicates:')\n",
    "print(visits.duplicated().sum())\n",
    "print()\n",
    "print('orders duplicates:')\n",
    "print(orders.duplicated().sum())\n",
    "print()\n",
    "print('costs duplicates:')\n",
    "print(costs.duplicated().sum())"
   ]
  },
  {
   "cell_type": "markdown",
   "metadata": {},
   "source": [
    "### Conclusion\n",
    "\n",
    "There are no missing values or duplicates discernible for all three datasets."
   ]
  },
  {
   "cell_type": "markdown",
   "metadata": {},
   "source": [
    "## Make reports and calculate metrics"
   ]
  },
  {
   "cell_type": "markdown",
   "metadata": {},
   "source": [
    "#### Reports and metrics for product"
   ]
  },
  {
   "cell_type": "code",
   "execution_count": 7,
   "metadata": {},
   "outputs": [
    {
     "name": "stdout",
     "output_type": "stream",
     "text": [
      "Daily Active Users: 907\n",
      "Weekly Active Users: 5716\n",
      "Monthly Active Users: 5716\n"
     ]
    }
   ],
   "source": [
    "visits['session_year']  = visits['Start Ts'].dt.year\n",
    "visits['session_month'] = visits['Start Ts'].dt.month\n",
    "visits['session_week']  = visits['Start Ts'].dt.week\n",
    "visits['session_date'] = visits['Start Ts'].dt.date\n",
    "visits.head(10)\n",
    "\n",
    "# calculating DAU\n",
    "dau_total = visits.groupby('session_date').agg({'Uid': 'nunique'}).mean()\n",
    "print('Daily Active Users:',int(dau_total))\n",
    "\n",
    "# calculating WAU\n",
    "wau_total = visits.groupby(['session_year', 'session_week']).agg({'Uid': 'nunique'}).mean()\n",
    "print('Weekly Active Users:',int(wau_total))\n",
    "\n",
    "# calculating MAU\n",
    "mau_total = visits.groupby(['session_year', 'session_month']).agg({'Uid': 'nunique'}).mean()\n",
    "print('Monthly Active Users:',int(wau_total))"
   ]
  },
  {
   "cell_type": "code",
   "execution_count": 8,
   "metadata": {
    "scrolled": false
   },
   "outputs": [
    {
     "data": {
      "image/png": "[encoded data removed]",
      "text/plain": [
       "<Figure size 432x288 with 1 Axes>"
      ]
     },
     "metadata": {
      "needs_background": "light"
     },
     "output_type": "display_data"
    },
    {
     "data": {
      "image/png": "[encoded data removed]",
      "text/plain": [
       "<Figure size 432x288 with 1 Axes>"
      ]
     },
     "metadata": {
      "needs_background": "light"
     },
     "output_type": "display_data"
    },
    {
     "data": {
      "image/png": "[encoded data removed]",
      "text/plain": [
       "<Figure size 432x288 with 1 Axes>"
      ]
     },
     "metadata": {
      "needs_background": "light"
     },
     "output_type": "display_data"
    }
   ],
   "source": [
    "visits_dau = visits.groupby('session_date').agg({'Uid': 'nunique'})\n",
    "visits_dau = visits_dau.reset_index()\n",
    "visits_dau.columns = ['session_date', 'nunique_count']\n",
    "ax = visits_dau.plot(y='nunique_count', x='session_date', title='Daily Active Users')\n",
    "plt.xticks(rotation=45)\n",
    "ax.set(xlabel=\"session_date\", ylabel=\"Number of Daily Active Users\")\n",
    "plt.show()\n",
    "visits_wau = visits.groupby('session_week').agg({'Uid': 'nunique'})\n",
    "visits_wau = visits_wau.reset_index()\n",
    "visits_wau.columns = ['session_week', 'nunique_count']\n",
    "ax = visits_wau.plot(y='nunique_count', x='session_week', title='Weekly Active Users')\n",
    "ax.set(xlabel=\"session_week\", ylabel=\"Number of Weekly Active Users\")\n",
    "plt.show()\n",
    "visits_mau = visits.groupby('session_month').agg({'Uid': 'nunique'})\n",
    "visits_mau = visits_mau.reset_index()\n",
    "visits_mau.columns = ['session_month', 'nunique_count']\n",
    "ax = visits_mau.plot(y='nunique_count', x='session_month', title='Monthly Active Users')\n",
    "ax.set(xlabel=\"session_month\", ylabel=\"Number of Monthly Active Users\")\n",
    "plt.show()"
   ]
  },
  {
   "cell_type": "markdown",
   "metadata": {},
   "source": [
    "**Figure 1: Daily, Weekly, and Monthly Active Users**\n",
    "\n",
    "*Description:*\n",
    "\n",
    "**Daily Active Users:** The graph illustrating daily active users show a gradual increase in usage with a sudden spike between November 2017 and December 2017. Daily usage remains stable after December until an abrupt drop between March 2018 and April 2018, and then a surge beginning of April 2018 to which daily active use is stabilized.\n",
    "\n",
    "**Weekly Active Users:** The graph illustrating weekly active users show fluctuation with a downwards trend until about the 30th ordinal week (end of July 2017). Then there is a steady increase until about the 45th ordinal week (November 5, 2017&mdash;November 11, 2017) followed by stabilization from the limited graph.\n",
    "\n",
    "**Monthly Active Users:** The graph illustrating monthly active users initially shows a downward trend to about August 2017 and then a steady increase of active users until November 2017."
   ]
  },
  {
   "cell_type": "code",
   "execution_count": 9,
   "metadata": {},
   "outputs": [],
   "source": [
    "# creating DFs by device type\n",
    "visits_desktop = visits.query('Device == \"desktop\"')\n",
    "visits_touch = visits.query('Device == \"touch\"')"
   ]
  },
  {
   "cell_type": "code",
   "execution_count": 10,
   "metadata": {},
   "outputs": [
    {
     "data": {
      "text/html": [
       "<div>\n",
       "<style scoped>\n",
       "    .dataframe tbody tr th:only-of-type {\n",
       "        vertical-align: middle;\n",
       "    }\n",
       "\n",
       "    .dataframe tbody tr th {\n",
       "        vertical-align: top;\n",
       "    }\n",
       "\n",
       "    .dataframe thead th {\n",
       "        text-align: right;\n",
       "    }\n",
       "</style>\n",
       "<table border=\"1\" class=\"dataframe\">\n",
       "  <thead>\n",
       "    <tr style=\"text-align: right;\">\n",
       "      <th></th>\n",
       "      <th>n_sessions</th>\n",
       "      <th>n_users</th>\n",
       "      <th>sessions_per_user</th>\n",
       "    </tr>\n",
       "    <tr>\n",
       "      <th>session_date</th>\n",
       "      <th></th>\n",
       "      <th></th>\n",
       "      <th></th>\n",
       "    </tr>\n",
       "  </thead>\n",
       "  <tbody>\n",
       "    <tr>\n",
       "      <td>2017-06-01</td>\n",
       "      <td>664</td>\n",
       "      <td>605</td>\n",
       "      <td>1.097521</td>\n",
       "    </tr>\n",
       "    <tr>\n",
       "      <td>2017-06-02</td>\n",
       "      <td>658</td>\n",
       "      <td>608</td>\n",
       "      <td>1.082237</td>\n",
       "    </tr>\n",
       "    <tr>\n",
       "      <td>2017-06-03</td>\n",
       "      <td>477</td>\n",
       "      <td>445</td>\n",
       "      <td>1.071910</td>\n",
       "    </tr>\n",
       "    <tr>\n",
       "      <td>2017-06-04</td>\n",
       "      <td>510</td>\n",
       "      <td>476</td>\n",
       "      <td>1.071429</td>\n",
       "    </tr>\n",
       "    <tr>\n",
       "      <td>2017-06-05</td>\n",
       "      <td>893</td>\n",
       "      <td>820</td>\n",
       "      <td>1.089024</td>\n",
       "    </tr>\n",
       "    <tr>\n",
       "      <td>...</td>\n",
       "      <td>...</td>\n",
       "      <td>...</td>\n",
       "      <td>...</td>\n",
       "    </tr>\n",
       "    <tr>\n",
       "      <td>2018-05-27</td>\n",
       "      <td>672</td>\n",
       "      <td>620</td>\n",
       "      <td>1.083871</td>\n",
       "    </tr>\n",
       "    <tr>\n",
       "      <td>2018-05-28</td>\n",
       "      <td>1156</td>\n",
       "      <td>1039</td>\n",
       "      <td>1.112608</td>\n",
       "    </tr>\n",
       "    <tr>\n",
       "      <td>2018-05-29</td>\n",
       "      <td>1035</td>\n",
       "      <td>948</td>\n",
       "      <td>1.091772</td>\n",
       "    </tr>\n",
       "    <tr>\n",
       "      <td>2018-05-30</td>\n",
       "      <td>1410</td>\n",
       "      <td>1289</td>\n",
       "      <td>1.093871</td>\n",
       "    </tr>\n",
       "    <tr>\n",
       "      <td>2018-05-31</td>\n",
       "      <td>2256</td>\n",
       "      <td>1997</td>\n",
       "      <td>1.129695</td>\n",
       "    </tr>\n",
       "  </tbody>\n",
       "</table>\n",
       "<p>364 rows × 3 columns</p>\n",
       "</div>"
      ],
      "text/plain": [
       "              n_sessions  n_users  sessions_per_user\n",
       "session_date                                        \n",
       "2017-06-01           664      605           1.097521\n",
       "2017-06-02           658      608           1.082237\n",
       "2017-06-03           477      445           1.071910\n",
       "2017-06-04           510      476           1.071429\n",
       "2017-06-05           893      820           1.089024\n",
       "...                  ...      ...                ...\n",
       "2018-05-27           672      620           1.083871\n",
       "2018-05-28          1156     1039           1.112608\n",
       "2018-05-29          1035      948           1.091772\n",
       "2018-05-30          1410     1289           1.093871\n",
       "2018-05-31          2256     1997           1.129695\n",
       "\n",
       "[364 rows x 3 columns]"
      ]
     },
     "metadata": {},
     "output_type": "display_data"
    },
    {
     "name": "stdout",
     "output_type": "stream",
     "text": [
      "Average sessions_per_user: 1.082169644003972\n"
     ]
    }
   ],
   "source": [
    "# calculating how many sessions per day\n",
    "sessions_per_user = visits.groupby(['session_date']).agg({'Uid': ['count', 'nunique']})\n",
    "sessions_per_user.columns = ['n_sessions', 'n_users']\n",
    "sessions_per_user['sessions_per_user'] = (sessions_per_user['n_sessions'] / sessions_per_user['n_users'])\n",
    "display(sessions_per_user)\n",
    "print('Average sessions_per_user:',sessions_per_user['sessions_per_user'].mean())"
   ]
  },
  {
   "cell_type": "code",
   "execution_count": 11,
   "metadata": {},
   "outputs": [
    {
     "name": "stdout",
     "output_type": "stream",
     "text": [
      "Average Sessions per Desktop User: 1.0889553115247612\n",
      "\n",
      "Average Sessions per Touch Device User: 1.0510715741665035\n"
     ]
    }
   ],
   "source": [
    "# calculating how many sessions per day by device type\n",
    "sessions_per_desktop = visits_desktop.groupby(['session_date']).agg({'Uid': ['count', 'nunique']})\n",
    "sessions_per_desktop.columns = ['n_sessions', 'n_users']\n",
    "sessions_per_desktop['sessions_per_user'] = (sessions_per_desktop['n_sessions'] / sessions_per_desktop['n_users'])\n",
    "sessions_per_desktop\n",
    "print('Average Sessions per Desktop User:',sessions_per_desktop['sessions_per_user'].mean())\n",
    "print()\n",
    "sessions_per_touch = visits_touch.groupby(['session_date']).agg({'Uid': ['count', 'nunique']})\n",
    "sessions_per_touch.columns = ['n_sessions', 'n_users']\n",
    "sessions_per_touch['sessions_per_user'] = (sessions_per_touch['n_sessions'] / sessions_per_touch['n_users'])\n",
    "sessions_per_touch\n",
    "print('Average Sessions per Touch Device User:',sessions_per_touch['sessions_per_user'].mean())"
   ]
  },
  {
   "cell_type": "code",
   "execution_count": 12,
   "metadata": {},
   "outputs": [
    {
     "data": {
      "image/png": "[encoded data removed]",
      "text/plain": [
       "<Figure size 432x288 with 1 Axes>"
      ]
     },
     "metadata": {
      "needs_background": "light"
     },
     "output_type": "display_data"
    },
    {
     "name": "stdout",
     "output_type": "stream",
     "text": [
      "\n",
      "Average Session Duration (seconds): 0    60\n"
     ]
    },
    {
     "data": {
      "image/png": "[encoded data removed]",
      "text/plain": [
       "<Figure size 432x288 with 1 Axes>"
      ]
     },
     "metadata": {
      "needs_background": "light"
     },
     "output_type": "display_data"
    },
    {
     "name": "stdout",
     "output_type": "stream",
     "text": [
      "\n",
      "Average Session Duration for Desktop Users (seconds): 0    60\n"
     ]
    },
    {
     "data": {
      "image/png": "[encoded data removed]",
      "text/plain": [
       "<Figure size 432x288 with 1 Axes>"
      ]
     },
     "metadata": {
      "needs_background": "light"
     },
     "output_type": "display_data"
    },
    {
     "name": "stdout",
     "output_type": "stream",
     "text": [
      "\n",
      "Average Session Duration for Touch Device Users (seconds): 0    60\n"
     ]
    }
   ],
   "source": [
    "# calculating the length of each session\n",
    "visits['session_duration_sec'] = (visits['End Ts'] - visits['Start Ts']).dt.seconds\n",
    "ax = visits['session_duration_sec'].plot(kind='hist', bins=100, title='Frequency of Session Duration (secs)')\n",
    "ax.set(xlabel=\"Session Duration (secs)\", ylabel=\"Count\")\n",
    "plt.show()\n",
    "print()\n",
    "print('Average Session Duration (seconds):',visits['session_duration_sec'].mode().to_string())\n",
    "\n",
    "# calculating the length of each session by device\n",
    "visits_desktop['session_duration_sec'] = (visits_desktop['End Ts'] - visits_desktop['Start Ts']).dt.seconds\n",
    "ax = visits_desktop['session_duration_sec'].plot(kind='hist', bins=100, \n",
    "                                                 title='Frequency of Session Duration (secs) for Desktop Users')\n",
    "ax.set(xlabel=\"Session Duration (secs)\", ylabel=\"Count\")\n",
    "plt.show()\n",
    "print()\n",
    "print('Average Session Duration for Desktop Users (seconds):',visits_desktop['session_duration_sec'].mode().to_string())\n",
    "\n",
    "visits_touch['session_duration_sec'] = (visits_touch['End Ts'] - visits_touch['Start Ts']).dt.seconds\n",
    "ax = visits_touch['session_duration_sec'].plot(kind='hist', bins=100, \n",
    "                                                 title='Frequency of Session Duration (secs) for Touch Device Users')\n",
    "ax.set(xlabel=\"Session Duration (secs)\", ylabel=\"Count\")\n",
    "plt.show()\n",
    "print()\n",
    "print('Average Session Duration for Touch Device Users (seconds):',visits_touch['session_duration_sec'].mode().to_string())"
   ]
  },
  {
   "cell_type": "markdown",
   "metadata": {},
   "source": [
    "**Figure 2: Frequency of Session Duration (secs) Overall and per Device Type**\n",
    "\n",
    "*Description:* The session lengths for the above histograms are right-skewed and thus not normally distributed. For this reason, the mode will be used for the average session duration which is 60 seconds."
   ]
  },
  {
   "cell_type": "code",
   "execution_count": 13,
   "metadata": {},
   "outputs": [
    {
     "name": "stdout",
     "output_type": "stream",
     "text": [
      "Weekly return: Uid    0.158844\n",
      "\n",
      "Monthly return: Uid    0.03909\n"
     ]
    }
   ],
   "source": [
    "# calculating sticky factor\n",
    "sticky_week = dau_total / wau_total\n",
    "sticky_month = dau_total / mau_total\n",
    "print('Weekly return:', sticky_week.to_string())\n",
    "print()\n",
    "print('Monthly return:', sticky_month.to_string())"
   ]
  },
  {
   "cell_type": "code",
   "execution_count": 14,
   "metadata": {},
   "outputs": [
    {
     "name": "stdout",
     "output_type": "stream",
     "text": [
      "Daily Active Users by Desktop: 659\n",
      "Weekly Active Users by Desktop: 4129\n",
      "Monthly Active Users by Desktop: 16724\n"
     ]
    }
   ],
   "source": [
    "# calculating DAU/WAU/MAU for desktop\n",
    "dau_desktop = visits_desktop.groupby('session_date').agg({'Uid': 'nunique'}).mean()\n",
    "print('Daily Active Users by Desktop:',int(dau_desktop))\n",
    "\n",
    "wau_desktop = visits_desktop.groupby(['session_year', 'session_week']).agg({'Uid': 'nunique'}).mean()\n",
    "print('Weekly Active Users by Desktop:',int(wau_desktop))\n",
    "\n",
    "mau_desktop = visits_desktop.groupby(['session_year', 'session_month']).agg({'Uid': 'nunique'}).mean()\n",
    "print('Monthly Active Users by Desktop:',int(mau_desktop))"
   ]
  },
  {
   "cell_type": "code",
   "execution_count": 15,
   "metadata": {},
   "outputs": [
    {
     "name": "stdout",
     "output_type": "stream",
     "text": [
      "Daily Active Users by Touch Device: 252\n",
      "Weekly Active Users by Touch Device: 1634\n",
      "Monthly Active Users by Touch Device: 6825\n"
     ]
    }
   ],
   "source": [
    "# calculating DAU/WAU/MAU for touch\n",
    "dau_touch = visits_touch.groupby('session_date').agg({'Uid': 'nunique'}).mean()\n",
    "print('Daily Active Users by Touch Device:',int(dau_touch))\n",
    "\n",
    "wau_touch = visits_touch.groupby(['session_year', 'session_week']).agg({'Uid': 'nunique'}).mean()\n",
    "print('Weekly Active Users by Touch Device:',int(wau_touch))\n",
    "\n",
    "mau_touch = visits_touch.groupby(['session_year', 'session_month']).agg({'Uid': 'nunique'}).mean()\n",
    "print('Monthly Active Users by Touch Device:',int(mau_touch))"
   ]
  },
  {
   "cell_type": "markdown",
   "metadata": {},
   "source": [
    "### Conclusion\n",
    "According to the data, on average there are 907 daily active users, 5716 weekly active users as well as 5716 monthly active users. Of those respective active users, the device utilized the most are desktop users. Additionally, each user spends roughly one session on the product. The distribution of session duration is not close to normally distributed, and so the mode was taken into account to determine the length of each session is about 60 seconds long. Users are about 16% likely to return every week and about 4% likely to return every month."
   ]
  },
  {
   "cell_type": "markdown",
   "metadata": {},
   "source": [
    "#### Reports and metrics for sales"
   ]
  },
  {
   "cell_type": "code",
   "execution_count": 16,
   "metadata": {},
   "outputs": [
    {
     "data": {
      "text/html": [
       "<div>\n",
       "<style scoped>\n",
       "    .dataframe tbody tr th:only-of-type {\n",
       "        vertical-align: middle;\n",
       "    }\n",
       "\n",
       "    .dataframe tbody tr th {\n",
       "        vertical-align: top;\n",
       "    }\n",
       "\n",
       "    .dataframe thead th {\n",
       "        text-align: right;\n",
       "    }\n",
       "</style>\n",
       "<table border=\"1\" class=\"dataframe\">\n",
       "  <thead>\n",
       "    <tr style=\"text-align: right;\">\n",
       "      <th>Device</th>\n",
       "      <th>desktop</th>\n",
       "      <th>touch</th>\n",
       "    </tr>\n",
       "    <tr>\n",
       "      <th>Source Id</th>\n",
       "      <th></th>\n",
       "      <th></th>\n",
       "    </tr>\n",
       "  </thead>\n",
       "  <tbody>\n",
       "    <tr>\n",
       "      <td>1</td>\n",
       "      <td>25901</td>\n",
       "      <td>8220</td>\n",
       "    </tr>\n",
       "    <tr>\n",
       "      <td>2</td>\n",
       "      <td>35661</td>\n",
       "      <td>11965</td>\n",
       "    </tr>\n",
       "    <tr>\n",
       "      <td>3</td>\n",
       "      <td>65777</td>\n",
       "      <td>19833</td>\n",
       "    </tr>\n",
       "    <tr>\n",
       "      <td>4</td>\n",
       "      <td>67640</td>\n",
       "      <td>34154</td>\n",
       "    </tr>\n",
       "    <tr>\n",
       "      <td>5</td>\n",
       "      <td>50069</td>\n",
       "      <td>16836</td>\n",
       "    </tr>\n",
       "    <tr>\n",
       "      <td>6</td>\n",
       "      <td>5</td>\n",
       "      <td>1</td>\n",
       "    </tr>\n",
       "    <tr>\n",
       "      <td>7</td>\n",
       "      <td>28</td>\n",
       "      <td>8</td>\n",
       "    </tr>\n",
       "    <tr>\n",
       "      <td>9</td>\n",
       "      <td>10119</td>\n",
       "      <td>3158</td>\n",
       "    </tr>\n",
       "    <tr>\n",
       "      <td>10</td>\n",
       "      <td>7367</td>\n",
       "      <td>2658</td>\n",
       "    </tr>\n",
       "  </tbody>\n",
       "</table>\n",
       "</div>"
      ],
      "text/plain": [
       "Device     desktop  touch\n",
       "Source Id                \n",
       "1            25901   8220\n",
       "2            35661  11965\n",
       "3            65777  19833\n",
       "4            67640  34154\n",
       "5            50069  16836\n",
       "6                5      1\n",
       "7               28      8\n",
       "9            10119   3158\n",
       "10            7367   2658"
      ]
     },
     "metadata": {},
     "output_type": "display_data"
    },
    {
     "data": {
      "image/png": "[encoded data removed]",
      "text/plain": [
       "<Figure size 360x360 with 1 Axes>"
      ]
     },
     "metadata": {
      "needs_background": "light"
     },
     "output_type": "display_data"
    }
   ],
   "source": [
    "visits_pivot = visits.pivot_table(index='Source Id', columns='Device', values='Uid', aggfunc='count')\n",
    "display(visits_pivot)\n",
    "ax = visits_pivot.sort_values('Source Id', ascending=True).plot(kind='bar', figsize=(5,5), title='Number of Visits per Ad Source by Device')\n",
    "ax.set_xlabel('Ad Source')\n",
    "ax.set_ylabel('Number of Visits')\n",
    "plt.show()"
   ]
  },
  {
   "cell_type": "markdown",
   "metadata": {},
   "source": [
    "**Figure 3: Number of Visits per Ad Source by Device**\n",
    "\n",
    "*Description:* The bar graph shows that ad source #4 is bringing in the most visits followed by ad source #3, #5, #2, #1, #9, #10, #7, and the least is #6."
   ]
  },
  {
   "cell_type": "code",
   "execution_count": 17,
   "metadata": {},
   "outputs": [],
   "source": [
    "first_visit_date = visits.groupby(['Uid'])['Start Ts'].min()\n",
    "first_visit_date.name = 'first_visit_date'\n",
    "visits = visits.join(first_visit_date, on='Uid')\n",
    "visits['visit_week'] = pd.to_datetime(visits['Start Ts'], unit='d') - pd.to_timedelta(visits['Start Ts'].dt.dayofweek, unit='d')\n",
    "visits['first_visit_week'] = pd.to_datetime(visits['first_visit_date'], unit='d') - pd.to_timedelta(\n",
    "    visits['first_visit_date'].dt.dayofweek, unit='d'\n",
    ")\n",
    "visits['visit_month'] = visits['Start Ts'].astype('datetime64[M]')\n",
    "visits['first_visit_month'] = visits['first_visit_date'].astype('datetime64[M]')"
   ]
  },
  {
   "cell_type": "code",
   "execution_count": 18,
   "metadata": {},
   "outputs": [
    {
     "data": {
      "image/png": "[encoded data removed]",
      "text/plain": [
       "<Figure size 936x648 with 2 Axes>"
      ]
     },
     "metadata": {
      "needs_background": "light"
     },
     "output_type": "display_data"
    }
   ],
   "source": [
    "visits['visit_lifetime'] = visits['visit_month'] - visits['first_visit_month']\n",
    "visits['visit_lifetime'] = visits['visit_lifetime'] / np.timedelta64(1, 'M')\n",
    "visits['visit_lifetime'] = visits['visit_lifetime'].round().astype('int')\n",
    "visits_cohorts = (\n",
    "    visits.groupby(['first_visit_month', 'visit_lifetime'])\n",
    "    .agg({'Uid': 'nunique'})\n",
    "    .reset_index()\n",
    ")\n",
    "initial_users_count = visits_cohorts[visits_cohorts['visit_lifetime'] == 0][\n",
    "    ['first_visit_month', 'Uid']\n",
    "]\n",
    "initial_users_count = initial_users_count.rename(\n",
    "    columns={'Uid': 'cohort_users'})\n",
    "visits_cohorts = visits_cohorts.merge(initial_users_count, on='first_visit_month')\n",
    "visits_cohorts['retention'] = visits_cohorts['Uid'] / visits_cohorts['cohort_users']\n",
    "retention_pivot = visits_cohorts.pivot_table(\n",
    "    index='first_visit_month',\n",
    "    columns='visit_lifetime',\n",
    "    values='retention',\n",
    "    aggfunc='sum',\n",
    ")\n",
    "plt.figure(figsize=(13, 9))\n",
    "plt.title('Cohort: User Retention')\n",
    "sns.heatmap(\n",
    "    retention_pivot,\n",
    "    annot=True,\n",
    "    fmt='.1%',\n",
    "    linewidths=1,\n",
    "    linecolor='black',\n",
    "    cmap='coolwarm',\n",
    ")\n",
    "plt.show()"
   ]
  },
  {
   "cell_type": "markdown",
   "metadata": {},
   "source": [
    "**Figure 4: Visitor User Retention**\n",
    "\n",
    "*Description:* The first-month retention rate is steadily increasing up until the September 2017 cohort and then it gradually decreases with each new cohort thereafter. Those that joined the June 2017 cohort have the longest retention."
   ]
  },
  {
   "cell_type": "code",
   "execution_count": 19,
   "metadata": {},
   "outputs": [
    {
     "name": "stdout",
     "output_type": "stream",
     "text": [
      "Ads in October:\n",
      "4     11928\n",
      "3      9931\n",
      "5      8788\n",
      "2      4926\n",
      "1      3447\n",
      "9      1507\n",
      "10     1147\n",
      "7         8\n",
      "Name: Source Id, dtype: int64\n",
      "\n",
      "Ads in November:\n",
      "4     12817\n",
      "3     10840\n",
      "5      7448\n",
      "2      5993\n",
      "1      3927\n",
      "9      1756\n",
      "10     1600\n",
      "7         1\n",
      "6         1\n",
      "Name: Source Id, dtype: int64\n",
      "\n",
      "Ads in December:\n",
      "4     11946\n",
      "3      9038\n",
      "5      6439\n",
      "2      3838\n",
      "1      3036\n",
      "9      1228\n",
      "10      723\n",
      "7         9\n",
      "6         1\n",
      "Name: Source Id, dtype: int64\n"
     ]
    }
   ],
   "source": [
    "# observing which ad sources were utilized in October, Novemer, and December\n",
    "most_visits_oct = visits.query('first_visit_month == \"2017-10-01\"')\n",
    "print('Ads in October:')\n",
    "print(most_visits_oct['Source Id'].value_counts())\n",
    "print()\n",
    "most_visits_nov = visits.query('first_visit_month == \"2017-11-01\"')\n",
    "print('Ads in November:')\n",
    "print(most_visits_nov['Source Id'].value_counts())\n",
    "print()\n",
    "most_visits_dec = visits.query('first_visit_month == \"2017-12-01\"')\n",
    "print('Ads in December:')\n",
    "print(most_visits_dec['Source Id'].value_counts())"
   ]
  },
  {
   "cell_type": "code",
   "execution_count": 20,
   "metadata": {},
   "outputs": [],
   "source": [
    "orders['order_date'] = orders['Buy Ts'].dt.date\n",
    "first_order_date = orders.groupby(['Uid'])['Buy Ts'].min()\n",
    "first_order_date.name = 'first_order_date'\n",
    "orders = orders.join(first_order_date, on='Uid')\n",
    "orders['order_week'] = pd.to_datetime(orders['Buy Ts'], unit='d') - pd.to_timedelta(orders['Buy Ts'].dt.dayofweek, unit='d')\n",
    "orders['first_order_week'] = pd.to_datetime(orders['first_order_date'], unit='d') - pd.to_timedelta(\n",
    "    orders['first_order_date'].dt.dayofweek, unit='d'\n",
    ")\n",
    "orders['order_month'] = orders['Buy Ts'].astype('datetime64[M]')\n",
    "orders['first_order_month'] = orders['first_order_date'].astype('datetime64[M]')"
   ]
  },
  {
   "cell_type": "code",
   "execution_count": 21,
   "metadata": {},
   "outputs": [],
   "source": [
    "orders_cohort = orders.groupby(['first_order_month', 'order_month']).agg({'Revenue': 'sum', 'Uid': 'nunique'})\n",
    "orders_cohort['rev_per_user'] = orders_cohort['Revenue'] / orders_cohort['Uid']\n",
    "orders_cohort.pivot_table(index='first_order_month', columns='order_month', values='rev_per_user', aggfunc='mean')\n",
    "orders_cohort = orders_cohort.reset_index()\n",
    "orders_cohort['cohort_lifetime'] = orders_cohort['order_month'] - orders_cohort['first_order_month']\n",
    "orders_cohort['cohort_lifetime'] = orders_cohort['cohort_lifetime'] / np.timedelta64(1, 'M')\n",
    "orders_cohort['cohort_lifetime'] = orders_cohort['cohort_lifetime'].round().astype('int')\n",
    "orders_cohort['first_order_month'].dt.strftime('%Y-%d-%m')\n",
    "orders_cohort['first_order_month'] = orders_cohort['first_order_month'].dt.strftime('%Y-%m')"
   ]
  },
  {
   "cell_type": "code",
   "execution_count": 22,
   "metadata": {},
   "outputs": [],
   "source": [
    "orders_cohort_count = orders.groupby(['first_order_month', 'order_month']).agg({'Revenue': 'count', 'Uid': 'nunique'}).rename(\n",
    "    columns={'Revenue': 'count'})\n",
    "orders_cohort_count['orders_per_user'] = orders_cohort_count['count'] / orders_cohort_count['Uid']\n",
    "orders_cohort_count.pivot_table(index='first_order_month', columns='order_month', values='orders_per_user', aggfunc='mean')\n",
    "orders_cohort_count = orders_cohort_count.reset_index()\n",
    "orders_cohort_count['cohort_lifetime'] = orders_cohort_count['order_month'] - orders_cohort_count['first_order_month']\n",
    "orders_cohort_count['cohort_lifetime'] = orders_cohort_count['cohort_lifetime'] / np.timedelta64(1, 'M')\n",
    "orders_cohort_count['cohort_lifetime'] = orders_cohort_count['cohort_lifetime'].round().astype('int')\n",
    "orders_cohort_count['first_order_month'].dt.strftime('%Y-%d-%m')\n",
    "orders_cohort_count['first_order_month'] = orders_cohort_count['first_order_month'].dt.strftime('%Y-%m')"
   ]
  },
  {
   "cell_type": "code",
   "execution_count": 23,
   "metadata": {},
   "outputs": [
    {
     "data": {
      "image/png": "[encoded data removed]",
      "text/plain": [
       "<Figure size 936x648 with 2 Axes>"
      ]
     },
     "metadata": {
      "needs_background": "light"
     },
     "output_type": "display_data"
    },
    {
     "name": "stdout",
     "output_type": "stream",
     "text": [
      "Average Orders per User: cohort_lifetime\n",
      "0    1.125172\n"
     ]
    }
   ],
   "source": [
    "orders_per_user_pivot = orders_cohort_count.pivot_table(\n",
    "    index='first_order_month',\n",
    "    columns='cohort_lifetime',\n",
    "    values='orders_per_user',\n",
    "    aggfunc='mean',\n",
    ")\n",
    "plt.figure(figsize=(13, 9))\n",
    "plt.title('Number of Orders Made Over a Period of Time')\n",
    "sns.heatmap(\n",
    "    orders_per_user_pivot,\n",
    "    annot=True,\n",
    "    fmt='.2f',\n",
    "    linewidths=1,\n",
    "    linecolor='black',\n",
    "    cmap='coolwarm',\n",
    ")\n",
    "plt.show()\n",
    "print('Average Orders per User:', orders_per_user_pivot.loc[:,orders_per_user_pivot.columns.get_level_values(0).isin({'0'})].mean().to_string())"
   ]
  },
  {
   "cell_type": "markdown",
   "metadata": {},
   "source": [
    "**Figure 5: Average Number of Orders Made Over a Period of Time**\n",
    "\n",
    "*Description:* The number of orders made for each cohort increases to a certain point and then decreases for their respective lifetimes. For the most part, at the end of each cohort's lifetime, the number of orders made is greater than the initial cohort first month."
   ]
  },
  {
   "cell_type": "code",
   "execution_count": 24,
   "metadata": {},
   "outputs": [
    {
     "data": {
      "image/png": "[encoded data removed]",
      "text/plain": [
       "<Figure size 936x648 with 2 Axes>"
      ]
     },
     "metadata": {
      "needs_background": "light"
     },
     "output_type": "display_data"
    },
    {
     "name": "stdout",
     "output_type": "stream",
     "text": [
      "Average Orders per User: cohort_lifetime\n",
      "0    4.801682\n"
     ]
    }
   ],
   "source": [
    "revenue_per_user_pivot = orders_cohort.pivot_table(\n",
    "    index='first_order_month',\n",
    "    columns='cohort_lifetime',\n",
    "    values='rev_per_user',\n",
    "    aggfunc='mean',\n",
    ")\n",
    "plt.figure(figsize=(13, 9))\n",
    "plt.title('Average Customer Purchase Size Over a Period of Time')\n",
    "sns.heatmap(\n",
    "    revenue_per_user_pivot,\n",
    "    annot=True,\n",
    "    fmt='.2f',\n",
    "    linewidths=1,\n",
    "    linecolor='black',\n",
    "    cmap='coolwarm',\n",
    ")\n",
    "plt.show()\n",
    "print('Average Orders per User:', revenue_per_user_pivot.loc[:,revenue_per_user_pivot.columns.get_level_values(0).isin({'0'})].mean().to_string())"
   ]
  },
  {
   "cell_type": "markdown",
   "metadata": {},
   "source": [
    "**Figure 6: Average Customer Purchase Size Over a Period of Time**\n",
    "\n",
    "*Description:* More often, it looks to be that the greatest average customer purchase size happens three months after the first order month of each cohort (excluding those whose cohort lifetime is less than three months)."
   ]
  },
  {
   "cell_type": "code",
   "execution_count": 25,
   "metadata": {},
   "outputs": [
    {
     "data": {
      "image/png": "[encoded data removed]",
      "text/plain": [
       "<Figure size 720x576 with 1 Axes>"
      ]
     },
     "metadata": {
      "needs_background": "light"
     },
     "output_type": "display_data"
    }
   ],
   "source": [
    "ax = orders_cohort.plot(x='first_order_month', y='rev_per_user', figsize=(10,8))\n",
    "ax.set_ylabel('Revenue')\n",
    "plt.title('Revenue per User Over a Period of Time by First Order Month')\n",
    "plt.show()"
   ]
  },
  {
   "cell_type": "markdown",
   "metadata": {},
   "source": [
    "**Figure 7: Revenue per User Over a Period of Time by First Order Month**\n",
    "\n",
    "*Description:* The graph shows a stable trend until a sudden spike between August 2017 and September 2017. Afterwards, revenue per user stabilizes again until December 2017 where there is a little rise."
   ]
  },
  {
   "cell_type": "code",
   "execution_count": 26,
   "metadata": {},
   "outputs": [
    {
     "data": {
      "image/png": "[encoded data removed]",
      "text/plain": [
       "<Figure size 432x288 with 1 Axes>"
      ]
     },
     "metadata": {
      "needs_background": "light"
     },
     "output_type": "display_data"
    }
   ],
   "source": [
    "orders_overall = orders.pivot_table(index='order_month', values='Revenue', aggfunc='mean')\n",
    "ax = orders_overall.plot()\n",
    "ax.set_ylabel('Revenue')\n",
    "plt.title('Revenue Over a Period of Time by Month')\n",
    "plt.show()"
   ]
  },
  {
   "cell_type": "markdown",
   "metadata": {},
   "source": [
    "**Figure 8: Revenue Over a Period of Time by Month**\n",
    "\n",
    "*Description:* Revenue fluctuates between July 2017 and November 2017. However, there is a spike in revenue between November 2017 and December 2017. By January 2018, revenue drops and then gradually increases again beginning of March 2018. Then, there is a gradual decline in revenue onwards."
   ]
  },
  {
   "cell_type": "code",
   "execution_count": 27,
   "metadata": {},
   "outputs": [
    {
     "data": {
      "image/png": "[encoded data removed]",
      "text/plain": [
       "<Figure size 936x648 with 2 Axes>"
      ]
     },
     "metadata": {
      "needs_background": "light"
     },
     "output_type": "display_data"
    },
    {
     "name": "stdout",
     "output_type": "stream",
     "text": [
      "Average LTV for 6 months from the first order: 3.984526315103668\n"
     ]
    }
   ],
   "source": [
    "# calculating LTV\n",
    "costs['month'] = costs['dt'].astype('datetime64[M]')\n",
    "first_orders = orders.groupby('Uid').agg({'order_month': 'min'}).reset_index()\n",
    "first_orders.columns = ['Uid', 'first_order_month']\n",
    "\n",
    "cohort_sizes = (\n",
    "    first_orders.groupby('first_order_month')\n",
    "    .agg({'Uid': 'nunique'})\n",
    "    .reset_index()\n",
    ")\n",
    "cohort_sizes.columns = ['first_order_month_x', 'n_buyers']\n",
    "margin_rate = 0.5\n",
    "orders_ = pd.merge(orders, first_orders, on='Uid')\n",
    "cohorts = (\n",
    "    orders_.groupby(['first_order_month_x', 'order_month'])\n",
    "    .agg({'Revenue': 'sum'})\n",
    "    .reset_index()\n",
    ")\n",
    "report = pd.merge(cohort_sizes, cohorts, on='first_order_month_x')\n",
    "\n",
    "report['gp'] = report['Revenue'] * margin_rate\n",
    "report['age'] = (report['order_month'] - report['first_order_month_x']) / np.timedelta64(1, 'M')\n",
    "report['age'] = report['age'].round().astype('int')\n",
    "report['ltv'] = report['gp'] / report['n_buyers']\n",
    "result = report.pivot_table(\n",
    "    index='first_order_month_x', columns='age', values='ltv', aggfunc='mean'\n",
    ").round()\n",
    "\n",
    "result = result.fillna('')\n",
    "\n",
    "monthly_costs = costs.groupby('month').sum()\n",
    "report_ = pd.merge(\n",
    "    report, monthly_costs, left_on='first_order_month_x', right_on='month'\n",
    ")\n",
    "report_['cac'] = report_['costs'] / report_['n_buyers']\n",
    "result = report_.pivot_table(\n",
    "    index='first_order_month_x', columns='age', values='ltv', aggfunc='mean'\n",
    ")\n",
    "plt.figure(figsize=(13, 9))\n",
    "plt.title('Cohort: Average LTV')\n",
    "sns.heatmap(\n",
    "    result,\n",
    "    annot=True,\n",
    "    fmt='.2f',\n",
    "    linewidths=1,\n",
    "    linecolor='black',\n",
    "    cmap='coolwarm',\n",
    ")\n",
    "plt.show()\n",
    "m6_cum_ltv = result.cumsum(axis=1).mean(axis=0)[5]\n",
    "print('Average LTV for 6 months from the first order:', m6_cum_ltv)"
   ]
  },
  {
   "cell_type": "markdown",
   "metadata": {},
   "source": [
    "**Figure 9: Average Cohort LTV**\n",
    "\n",
    "*Description:* On average, each customer from the first cohort brought about $4 in revenue over a 6-month lifetime."
   ]
  },
  {
   "cell_type": "markdown",
   "metadata": {},
   "source": [
    "### Conclusion\n",
    "According to the data, it looks like people start buying products during October, November, and December. This could be due to purchasing products that are seasonal for popular holidays during those months such as Halloween, Thanksgiving, or Christmas. Users are responding the most to ad source #4, followed by #3, #5, #2, #1, #9, #10 and the least are ad sources #7 and #6. Moreover, users are utilizing desktops more than touchscreen device to access the company's website. Coincidentally, the data shows that the average number of orders made over a period of time by an individual is between one to two. While that may be true, the average purchase size is about $5. On average, each customer from the first cohort brought about \\\\$4 in revenue over a 6-month lifetime."
   ]
  },
  {
   "cell_type": "markdown",
   "metadata": {},
   "source": [
    "#### Reports and metrics for marketing"
   ]
  },
  {
   "cell_type": "code",
   "execution_count": 28,
   "metadata": {},
   "outputs": [
    {
     "data": {
      "text/html": [
       "<div>\n",
       "<style scoped>\n",
       "    .dataframe tbody tr th:only-of-type {\n",
       "        vertical-align: middle;\n",
       "    }\n",
       "\n",
       "    .dataframe tbody tr th {\n",
       "        vertical-align: top;\n",
       "    }\n",
       "\n",
       "    .dataframe thead th {\n",
       "        text-align: right;\n",
       "    }\n",
       "</style>\n",
       "<table border=\"1\" class=\"dataframe\">\n",
       "  <thead>\n",
       "    <tr style=\"text-align: right;\">\n",
       "      <th></th>\n",
       "      <th>costs</th>\n",
       "    </tr>\n",
       "    <tr>\n",
       "      <th>source_id</th>\n",
       "      <th></th>\n",
       "    </tr>\n",
       "  </thead>\n",
       "  <tbody>\n",
       "    <tr>\n",
       "      <td>1</td>\n",
       "      <td>20833.27</td>\n",
       "    </tr>\n",
       "    <tr>\n",
       "      <td>2</td>\n",
       "      <td>42806.04</td>\n",
       "    </tr>\n",
       "    <tr>\n",
       "      <td>3</td>\n",
       "      <td>141321.63</td>\n",
       "    </tr>\n",
       "    <tr>\n",
       "      <td>4</td>\n",
       "      <td>61073.60</td>\n",
       "    </tr>\n",
       "    <tr>\n",
       "      <td>5</td>\n",
       "      <td>51757.10</td>\n",
       "    </tr>\n",
       "    <tr>\n",
       "      <td>9</td>\n",
       "      <td>5517.49</td>\n",
       "    </tr>\n",
       "    <tr>\n",
       "      <td>10</td>\n",
       "      <td>5822.49</td>\n",
       "    </tr>\n",
       "  </tbody>\n",
       "</table>\n",
       "</div>"
      ],
      "text/plain": [
       "               costs\n",
       "source_id           \n",
       "1           20833.27\n",
       "2           42806.04\n",
       "3          141321.63\n",
       "4           61073.60\n",
       "5           51757.10\n",
       "9            5517.49\n",
       "10           5822.49"
      ]
     },
     "metadata": {},
     "output_type": "display_data"
    },
    {
     "data": {
      "image/png": "[encoded data removed]",
      "text/plain": [
       "<Figure size 432x288 with 1 Axes>"
      ]
     },
     "metadata": {},
     "output_type": "display_data"
    }
   ],
   "source": [
    "costs_overall = costs.groupby('source_id').agg({'costs': 'sum'})\n",
    "display(costs_overall)\n",
    "source_id = ['1', '2', '3', '4', '5', '9', '10']\n",
    "percent = 100.*costs_overall['costs']/costs_overall['costs'].sum()\n",
    "\n",
    "patches, texts = plt.pie(costs_overall['costs'], startangle=90, radius=1.2)\n",
    "labels = ['{0} - {1:1.2f} %'.format(i,j) for i,j in zip(source_id, percent)]\n",
    "sort_legend = True\n",
    "if sort_legend:\n",
    "    patches, labels, dummy =  zip(*sorted(zip(patches, labels, costs_overall['costs']),\n",
    "                                          key=lambda x: x[2],\n",
    "                                          reverse=True))\n",
    "\n",
    "plt.legend(patches, labels, loc='center right', bbox_to_anchor=(-0.1, 1.),\n",
    "           fontsize=10)\n",
    "\n",
    "plt.savefig('piechart.png', bbox_inches='tight') \n",
    "plt.tight_layout()\n",
    "plt.title(\"Total Expenses per Ad Source\")\n",
    "plt.show()"
   ]
  },
  {
   "cell_type": "code",
   "execution_count": 29,
   "metadata": {},
   "outputs": [],
   "source": [
    "first_cost_date = costs.groupby(['source_id'])['dt'].min()\n",
    "first_cost_date.name = 'first_cost_date'\n",
    "costs = costs.join(first_cost_date, on='source_id')\n",
    "costs['cost_week'] = pd.to_datetime(costs['dt'], unit='d') - pd.to_timedelta(costs['dt'].dt.dayofweek, unit='d')\n",
    "costs['first_cost_week'] = pd.to_datetime(costs['first_cost_date'], unit='d') - pd.to_timedelta(\n",
    "    costs['first_cost_date'].dt.dayofweek, unit='d'\n",
    ")\n",
    "costs['first_cost_month'] = costs['first_cost_date'].astype('datetime64[M]')"
   ]
  },
  {
   "cell_type": "code",
   "execution_count": 30,
   "metadata": {},
   "outputs": [
    {
     "data": {
      "image/png": "[encoded data removed]",
      "text/plain": [
       "<Figure size 576x576 with 1 Axes>"
      ]
     },
     "metadata": {
      "needs_background": "light"
     },
     "output_type": "display_data"
    }
   ],
   "source": [
    "costs_expense = costs.pivot_table(index='month', columns='source_id', values='costs', aggfunc='mean')\n",
    "ax = costs_expense.plot(figsize=(8,8))\n",
    "ax.set_ylabel('Ad Expenses')\n",
    "plt.title('Expenses per Ad Source Over a Period of Time by Month')\n",
    "plt.show()"
   ]
  },
  {
   "cell_type": "markdown",
   "metadata": {},
   "source": [
    "**Figure 10: Expenses per Ad Source Over a Period of Time by Month**\n",
    "\n",
    "*Description:* The most money was spent on ad source #3. Expenses for ads were spent the most between October 2017 and December 2017."
   ]
  },
  {
   "cell_type": "code",
   "execution_count": 31,
   "metadata": {},
   "outputs": [
    {
     "data": {
      "image/png": "[encoded data removed]",
      "text/plain": [
       "<Figure size 576x576 with 1 Axes>"
      ]
     },
     "metadata": {
      "needs_background": "light"
     },
     "output_type": "display_data"
    }
   ],
   "source": [
    "costs_total = costs.pivot_table(index='month', values='costs', aggfunc='sum')\n",
    "ax = costs_total.plot(figsize=(8,8))\n",
    "ax.set_ylabel('Ad Expenses')\n",
    "plt.title('Total Expenses Over a Period of Time by Month')\n",
    "plt.show()"
   ]
  },
  {
   "cell_type": "markdown",
   "metadata": {},
   "source": [
    "**Figure 11: Total Expenses Over a Period of Time by Month**\n",
    "\n",
    "*Description:* Expenses in ad sources started rising in August 2017. The most money being expended in ads was between October 2017 and December 2017. Afterward, ad expenses begin to fall and stabilize beginning of April 2018."
   ]
  },
  {
   "cell_type": "code",
   "execution_count": 32,
   "metadata": {},
   "outputs": [
    {
     "data": {
      "text/html": [
       "<div>\n",
       "<style scoped>\n",
       "    .dataframe tbody tr th:only-of-type {\n",
       "        vertical-align: middle;\n",
       "    }\n",
       "\n",
       "    .dataframe tbody tr th {\n",
       "        vertical-align: top;\n",
       "    }\n",
       "\n",
       "    .dataframe thead th {\n",
       "        text-align: right;\n",
       "    }\n",
       "</style>\n",
       "<table border=\"1\" class=\"dataframe\">\n",
       "  <thead>\n",
       "    <tr style=\"text-align: right;\">\n",
       "      <th></th>\n",
       "      <th>date</th>\n",
       "      <th>n_buyers</th>\n",
       "      <th>costs</th>\n",
       "      <th>cac</th>\n",
       "      <th>ltv</th>\n",
       "    </tr>\n",
       "  </thead>\n",
       "  <tbody>\n",
       "    <tr>\n",
       "      <td>0</td>\n",
       "      <td>2017-06-01</td>\n",
       "      <td>2023</td>\n",
       "      <td>18015.00</td>\n",
       "      <td>8.905091</td>\n",
       "      <td>5.939617</td>\n",
       "    </tr>\n",
       "    <tr>\n",
       "      <td>1</td>\n",
       "      <td>2017-07-01</td>\n",
       "      <td>1923</td>\n",
       "      <td>18240.59</td>\n",
       "      <td>9.485486</td>\n",
       "      <td>4.193427</td>\n",
       "    </tr>\n",
       "    <tr>\n",
       "      <td>2</td>\n",
       "      <td>2017-08-01</td>\n",
       "      <td>1370</td>\n",
       "      <td>14790.54</td>\n",
       "      <td>10.796015</td>\n",
       "      <td>4.235861</td>\n",
       "    </tr>\n",
       "    <tr>\n",
       "      <td>3</td>\n",
       "      <td>2017-09-01</td>\n",
       "      <td>2581</td>\n",
       "      <td>24368.91</td>\n",
       "      <td>9.441654</td>\n",
       "      <td>6.717613</td>\n",
       "    </tr>\n",
       "    <tr>\n",
       "      <td>4</td>\n",
       "      <td>2017-10-01</td>\n",
       "      <td>4340</td>\n",
       "      <td>36322.88</td>\n",
       "      <td>8.369327</td>\n",
       "      <td>3.180121</td>\n",
       "    </tr>\n",
       "    <tr>\n",
       "      <td>5</td>\n",
       "      <td>2017-11-01</td>\n",
       "      <td>4081</td>\n",
       "      <td>37907.88</td>\n",
       "      <td>9.288870</td>\n",
       "      <td>3.197622</td>\n",
       "    </tr>\n",
       "    <tr>\n",
       "      <td>6</td>\n",
       "      <td>2017-12-01</td>\n",
       "      <td>4383</td>\n",
       "      <td>38315.35</td>\n",
       "      <td>8.741809</td>\n",
       "      <td>3.819957</td>\n",
       "    </tr>\n",
       "    <tr>\n",
       "      <td>7</td>\n",
       "      <td>2018-01-01</td>\n",
       "      <td>3373</td>\n",
       "      <td>33518.52</td>\n",
       "      <td>9.937302</td>\n",
       "      <td>2.470076</td>\n",
       "    </tr>\n",
       "    <tr>\n",
       "      <td>8</td>\n",
       "      <td>2018-02-01</td>\n",
       "      <td>3651</td>\n",
       "      <td>32723.03</td>\n",
       "      <td>8.962758</td>\n",
       "      <td>2.293961</td>\n",
       "    </tr>\n",
       "    <tr>\n",
       "      <td>9</td>\n",
       "      <td>2018-03-01</td>\n",
       "      <td>3533</td>\n",
       "      <td>30415.27</td>\n",
       "      <td>8.608907</td>\n",
       "      <td>2.727627</td>\n",
       "    </tr>\n",
       "    <tr>\n",
       "      <td>10</td>\n",
       "      <td>2018-04-01</td>\n",
       "      <td>2276</td>\n",
       "      <td>22289.38</td>\n",
       "      <td>9.793225</td>\n",
       "      <td>2.594598</td>\n",
       "    </tr>\n",
       "    <tr>\n",
       "      <td>11</td>\n",
       "      <td>2018-05-01</td>\n",
       "      <td>2988</td>\n",
       "      <td>22224.27</td>\n",
       "      <td>7.437841</td>\n",
       "      <td>2.330281</td>\n",
       "    </tr>\n",
       "    <tr>\n",
       "      <td>12</td>\n",
       "      <td>2018-06-01</td>\n",
       "      <td>1</td>\n",
       "      <td>NaN</td>\n",
       "      <td>NaN</td>\n",
       "      <td>NaN</td>\n",
       "    </tr>\n",
       "  </tbody>\n",
       "</table>\n",
       "</div>"
      ],
      "text/plain": [
       "         date  n_buyers     costs        cac       ltv\n",
       "0  2017-06-01      2023  18015.00   8.905091  5.939617\n",
       "1  2017-07-01      1923  18240.59   9.485486  4.193427\n",
       "2  2017-08-01      1370  14790.54  10.796015  4.235861\n",
       "3  2017-09-01      2581  24368.91   9.441654  6.717613\n",
       "4  2017-10-01      4340  36322.88   8.369327  3.180121\n",
       "5  2017-11-01      4081  37907.88   9.288870  3.197622\n",
       "6  2017-12-01      4383  38315.35   8.741809  3.819957\n",
       "7  2018-01-01      3373  33518.52   9.937302  2.470076\n",
       "8  2018-02-01      3651  32723.03   8.962758  2.293961\n",
       "9  2018-03-01      3533  30415.27   8.608907  2.727627\n",
       "10 2018-04-01      2276  22289.38   9.793225  2.594598\n",
       "11 2018-05-01      2988  22224.27   7.437841  2.330281\n",
       "12 2018-06-01         1       NaN        NaN       NaN"
      ]
     },
     "execution_count": 32,
     "metadata": {},
     "output_type": "execute_result"
    }
   ],
   "source": [
    "nbuyers = (first_orders.groupby('first_order_month').agg({'Uid': 'nunique'})).reset_index()\n",
    "nbuyers.columns = ['date', 'n_buyers']\n",
    "sum_cost_month = (costs.groupby('month').agg({'costs': 'sum'})).reset_index()\n",
    "sum_cost_month.columns = ['date', 'costs']\n",
    "monthly_cac = nbuyers.merge(sum_cost_month, on='date', how='left')\n",
    "monthly_cac['cac'] = monthly_cac['costs'] / monthly_cac['n_buyers']\n",
    "\n",
    "monthly_ltv = report_.pivot_table(index='first_order_month_x', values='ltv', aggfunc='sum').reset_index()\n",
    "monthly_ltv.columns = ['date', 'ltv']\n",
    "\n",
    "monthly_cac_ltv = monthly_cac.merge(monthly_ltv, on='date', how='left')\n",
    "monthly_cac_ltv"
   ]
  },
  {
   "cell_type": "code",
   "execution_count": 33,
   "metadata": {},
   "outputs": [
    {
     "name": "stdout",
     "output_type": "stream",
     "text": [
      "Average CAC: 9.147357292482544\n",
      "\n",
      "Average LTV: 3.6417299945783608\n"
     ]
    }
   ],
   "source": [
    "print('Average CAC:',monthly_cac_ltv['cac'].mean())\n",
    "print()\n",
    "print('Average LTV:',monthly_cac_ltv['ltv'].mean())"
   ]
  },
  {
   "cell_type": "code",
   "execution_count": 34,
   "metadata": {},
   "outputs": [
    {
     "data": {
      "image/png": "[encoded data removed]",
      "text/plain": [
       "<Figure size 576x576 with 1 Axes>"
      ]
     },
     "metadata": {
      "needs_background": "light"
     },
     "output_type": "display_data"
    }
   ],
   "source": [
    "cac_graph = monthly_cac_ltv.pivot_table(index='date', values='cac', aggfunc='sum')\n",
    "ax = cac_graph.plot(figsize=(8,8))\n",
    "ax.set_ylabel('Customer Acquistion Cost')\n",
    "plt.title('CAC Over a Period of Time by Month')\n",
    "plt.show()"
   ]
  },
  {
   "cell_type": "markdown",
   "metadata": {},
   "source": [
    "**Figure 12: CAC Over a Period of Time by Month**\n",
    "\n",
    "*Description:* The most money spent on customer acquisition began in August 2017 and after that the CAC decreased a little bit and kept stable until after April 2018 where the graph illustrates a downward trend."
   ]
  },
  {
   "cell_type": "code",
   "execution_count": 35,
   "metadata": {},
   "outputs": [
    {
     "data": {
      "image/png": "[encoded data removed]",
      "text/plain": [
       "<Figure size 936x648 with 2 Axes>"
      ]
     },
     "metadata": {
      "needs_background": "light"
     },
     "output_type": "display_data"
    }
   ],
   "source": [
    "# calculating ROMI\n",
    "report_['romi'] = report_['ltv'] / report_['cac']\n",
    "result_romi = report_.pivot_table(\n",
    "    index='first_order_month_x', columns='age', values='romi', aggfunc='mean'\n",
    ")\n",
    "plt.figure(figsize=(13, 9))\n",
    "plt.title('Cohort ROMI')\n",
    "sns.heatmap(\n",
    "    result_romi,\n",
    "    annot=True,\n",
    "    fmt='.2f',\n",
    "    linewidths=1,\n",
    "    linecolor='black',\n",
    "    cmap='coolwarm',\n",
    ")\n",
    "plt.show()"
   ]
  },
  {
   "cell_type": "markdown",
   "metadata": {},
   "source": [
    "**Figure 13: Cohort ROMI**\n",
    "\n",
    "*Description:* The report shows that none of the cohorts paid off."
   ]
  },
  {
   "cell_type": "markdown",
   "metadata": {},
   "source": [
    "### Conclusion\n",
    "According to the data, overall expenses spent on the ads was \\\\$329,131.62. Over time, expenses in ad sources started rising in August 2017. The most money being expended in ads was between October 2017 and December 2017. Afterward, ad expenses begin to fall and stabilize beginning of April 2018. Coincidentally, most expenses were allocated to ad source #3. Furthermore, acquiring each customer costs an average of \\\\$9.15 while each customer spends about \\\\$3.64 in their lifetime with regards to using/buying the company's product. The most money spent on customer acquisition began in August 2017 and after that the CAC decreased a little bit and kept stable until after April 2018 where the CAC illustrates a downward trend. In spite of this fact, the report shows that investments in marketing is unprofitable. This makes sense since CAC is greater than LTV. None of the cohorts display signs of the ROMI paying off&mdash;there is a significant decrease in ROMI by the next month of each cohort."
   ]
  }
 ],
 "metadata": {
  "ExecuteTimeLog": [
   {
    "duration": 455,
    "start_time": "2021-09-02T03:40:26.985Z"
   },
   {
    "duration": 1634,
    "start_time": "2021-09-02T03:40:34.212Z"
   },
   {
    "duration": 89,
    "start_time": "2021-09-02T03:40:35.850Z"
   },
   {
    "duration": 18,
    "start_time": "2021-09-02T03:40:35.942Z"
   },
   {
    "duration": 15,
    "start_time": "2021-09-02T03:40:35.962Z"
   },
   {
    "duration": 928,
    "start_time": "2021-09-02T03:48:19.617Z"
   },
   {
    "duration": 28,
    "start_time": "2021-09-02T03:48:20.548Z"
   },
   {
    "duration": 22,
    "start_time": "2021-09-02T03:48:20.580Z"
   },
   {
    "duration": 16,
    "start_time": "2021-09-02T03:48:20.605Z"
   },
   {
    "duration": 900,
    "start_time": "2021-09-02T03:51:40.435Z"
   },
   {
    "duration": 29,
    "start_time": "2021-09-02T03:51:41.338Z"
   },
   {
    "duration": 19,
    "start_time": "2021-09-02T03:51:41.370Z"
   },
   {
    "duration": 32,
    "start_time": "2021-09-02T03:51:41.392Z"
   },
   {
    "duration": 1073,
    "start_time": "2021-09-02T03:51:57.576Z"
   },
   {
    "duration": 29,
    "start_time": "2021-09-02T03:51:58.652Z"
   },
   {
    "duration": 19,
    "start_time": "2021-09-02T03:51:58.684Z"
   },
   {
    "duration": 15,
    "start_time": "2021-09-02T03:51:58.705Z"
   },
   {
    "duration": 19,
    "start_time": "2021-09-02T03:54:50.879Z"
   },
   {
    "duration": 873,
    "start_time": "2021-09-02T04:28:56.520Z"
   },
   {
    "duration": 32,
    "start_time": "2021-09-02T04:28:57.395Z"
   },
   {
    "duration": 16,
    "start_time": "2021-09-02T04:28:57.430Z"
   },
   {
    "duration": 21,
    "start_time": "2021-09-02T04:28:57.449Z"
   },
   {
    "duration": 935,
    "start_time": "2021-09-02T04:34:34.538Z"
   },
   {
    "duration": 29,
    "start_time": "2021-09-02T04:34:35.476Z"
   },
   {
    "duration": 17,
    "start_time": "2021-09-02T04:34:35.507Z"
   },
   {
    "duration": 17,
    "start_time": "2021-09-02T04:34:35.526Z"
   },
   {
    "duration": 18,
    "start_time": "2021-09-02T04:39:16.714Z"
   },
   {
    "duration": 10,
    "start_time": "2021-09-02T04:40:35.400Z"
   },
   {
    "duration": 9,
    "start_time": "2021-09-02T04:41:01.083Z"
   },
   {
    "duration": 13,
    "start_time": "2021-09-02T04:41:29.442Z"
   },
   {
    "duration": 15,
    "start_time": "2021-09-02T04:41:41.051Z"
   },
   {
    "duration": 10,
    "start_time": "2021-09-02T04:42:11.526Z"
   },
   {
    "duration": 14,
    "start_time": "2021-09-02T04:43:08.481Z"
   },
   {
    "duration": 25,
    "start_time": "2021-09-02T05:20:05.553Z"
   },
   {
    "duration": 26,
    "start_time": "2021-09-02T05:20:21.393Z"
   },
   {
    "duration": 22,
    "start_time": "2021-09-02T05:25:57.669Z"
   },
   {
    "duration": 830,
    "start_time": "2021-09-02T05:26:31.357Z"
   },
   {
    "duration": 28,
    "start_time": "2021-09-02T05:26:32.190Z"
   },
   {
    "duration": 16,
    "start_time": "2021-09-02T05:26:32.221Z"
   },
   {
    "duration": 17,
    "start_time": "2021-09-02T05:26:32.239Z"
   },
   {
    "duration": 16,
    "start_time": "2021-09-02T05:26:32.258Z"
   },
   {
    "duration": 49,
    "start_time": "2021-09-02T05:26:32.276Z"
   },
   {
    "duration": 507,
    "start_time": "2021-09-02T05:26:32.328Z"
   },
   {
    "duration": 891,
    "start_time": "2021-09-02T05:26:48.830Z"
   },
   {
    "duration": 29,
    "start_time": "2021-09-02T05:26:49.724Z"
   },
   {
    "duration": 15,
    "start_time": "2021-09-02T05:26:49.756Z"
   },
   {
    "duration": 45,
    "start_time": "2021-09-02T05:26:49.774Z"
   },
   {
    "duration": 16,
    "start_time": "2021-09-02T05:26:49.821Z"
   },
   {
    "duration": 13,
    "start_time": "2021-09-02T05:26:49.839Z"
   },
   {
    "duration": 21,
    "start_time": "2021-09-02T05:26:49.854Z"
   },
   {
    "duration": 27,
    "start_time": "2021-09-02T05:29:53.721Z"
   },
   {
    "duration": 515,
    "start_time": "2021-09-02T05:33:13.359Z"
   },
   {
    "duration": 20,
    "start_time": "2021-09-02T05:33:34.454Z"
   },
   {
    "duration": 2562,
    "start_time": "2021-09-09T16:33:48.645Z"
   },
   {
    "duration": 26,
    "start_time": "2021-09-09T16:33:51.209Z"
   },
   {
    "duration": 14,
    "start_time": "2021-09-09T16:33:51.238Z"
   },
   {
    "duration": 15,
    "start_time": "2021-09-09T16:33:51.254Z"
   },
   {
    "duration": 33,
    "start_time": "2021-09-09T16:33:51.282Z"
   },
   {
    "duration": 121,
    "start_time": "2021-09-09T16:33:51.317Z"
   },
   {
    "duration": 625,
    "start_time": "2021-09-09T16:33:51.441Z"
   },
   {
    "duration": 5198,
    "start_time": "2021-09-09T16:33:52.069Z"
   },
   {
    "duration": -118,
    "start_time": "2021-09-09T16:33:57.388Z"
   },
   {
    "duration": -133,
    "start_time": "2021-09-09T16:33:57.404Z"
   },
   {
    "duration": -152,
    "start_time": "2021-09-09T16:33:57.425Z"
   },
   {
    "duration": -195,
    "start_time": "2021-09-09T16:33:57.469Z"
   },
   {
    "duration": -215,
    "start_time": "2021-09-09T16:33:57.491Z"
   },
   {
    "duration": -236,
    "start_time": "2021-09-09T16:33:57.513Z"
   },
   {
    "duration": -246,
    "start_time": "2021-09-09T16:33:57.524Z"
   },
   {
    "duration": -272,
    "start_time": "2021-09-09T16:33:57.552Z"
   },
   {
    "duration": -289,
    "start_time": "2021-09-09T16:33:57.570Z"
   },
   {
    "duration": -302,
    "start_time": "2021-09-09T16:33:57.584Z"
   },
   {
    "duration": -322,
    "start_time": "2021-09-09T16:33:57.606Z"
   },
   {
    "duration": -338,
    "start_time": "2021-09-09T16:33:57.623Z"
   },
   {
    "duration": -348,
    "start_time": "2021-09-09T16:33:57.634Z"
   },
   {
    "duration": -360,
    "start_time": "2021-09-09T16:33:57.647Z"
   },
   {
    "duration": -370,
    "start_time": "2021-09-09T16:33:57.659Z"
   },
   {
    "duration": -380,
    "start_time": "2021-09-09T16:33:57.670Z"
   },
   {
    "duration": -391,
    "start_time": "2021-09-09T16:33:57.682Z"
   },
   {
    "duration": -401,
    "start_time": "2021-09-09T16:33:57.693Z"
   },
   {
    "duration": -413,
    "start_time": "2021-09-09T16:33:57.706Z"
   },
   {
    "duration": -426,
    "start_time": "2021-09-09T16:33:57.721Z"
   },
   {
    "duration": -434,
    "start_time": "2021-09-09T16:33:57.730Z"
   },
   {
    "duration": -441,
    "start_time": "2021-09-09T16:33:57.739Z"
   },
   {
    "duration": -451,
    "start_time": "2021-09-09T16:33:57.750Z"
   },
   {
    "duration": -465,
    "start_time": "2021-09-09T16:33:57.765Z"
   },
   {
    "duration": -472,
    "start_time": "2021-09-09T16:33:57.773Z"
   },
   {
    "duration": -484,
    "start_time": "2021-09-09T16:33:57.786Z"
   },
   {
    "duration": 2229,
    "start_time": "2021-09-09T16:41:43.862Z"
   },
   {
    "duration": 28,
    "start_time": "2021-09-09T16:41:46.093Z"
   },
   {
    "duration": 15,
    "start_time": "2021-09-09T16:41:46.123Z"
   },
   {
    "duration": 15,
    "start_time": "2021-09-09T16:41:46.140Z"
   },
   {
    "duration": 22,
    "start_time": "2021-09-09T16:41:46.183Z"
   },
   {
    "duration": 134,
    "start_time": "2021-09-09T16:41:46.207Z"
   },
   {
    "duration": 648,
    "start_time": "2021-09-09T16:41:46.343Z"
   },
   {
    "duration": 942,
    "start_time": "2021-09-09T16:41:46.995Z"
   },
   {
    "duration": -178,
    "start_time": "2021-09-09T16:41:48.118Z"
   },
   {
    "duration": -187,
    "start_time": "2021-09-09T16:41:48.128Z"
   },
   {
    "duration": -195,
    "start_time": "2021-09-09T16:41:48.138Z"
   },
   {
    "duration": -203,
    "start_time": "2021-09-09T16:41:48.147Z"
   },
   {
    "duration": -214,
    "start_time": "2021-09-09T16:41:48.159Z"
   },
   {
    "duration": -224,
    "start_time": "2021-09-09T16:41:48.171Z"
   },
   {
    "duration": -233,
    "start_time": "2021-09-09T16:41:48.181Z"
   },
   {
    "duration": -242,
    "start_time": "2021-09-09T16:41:48.192Z"
   },
   {
    "duration": -271,
    "start_time": "2021-09-09T16:41:48.222Z"
   },
   {
    "duration": -282,
    "start_time": "2021-09-09T16:41:48.235Z"
   },
   {
    "duration": -291,
    "start_time": "2021-09-09T16:41:48.246Z"
   },
   {
    "duration": -300,
    "start_time": "2021-09-09T16:41:48.256Z"
   },
   {
    "duration": -313,
    "start_time": "2021-09-09T16:41:48.271Z"
   },
   {
    "duration": -324,
    "start_time": "2021-09-09T16:41:48.283Z"
   },
   {
    "duration": -332,
    "start_time": "2021-09-09T16:41:48.293Z"
   },
   {
    "duration": -342,
    "start_time": "2021-09-09T16:41:48.304Z"
   },
   {
    "duration": -351,
    "start_time": "2021-09-09T16:41:48.314Z"
   },
   {
    "duration": -384,
    "start_time": "2021-09-09T16:41:48.349Z"
   },
   {
    "duration": -394,
    "start_time": "2021-09-09T16:41:48.360Z"
   },
   {
    "duration": -401,
    "start_time": "2021-09-09T16:41:48.368Z"
   },
   {
    "duration": -409,
    "start_time": "2021-09-09T16:41:48.378Z"
   },
   {
    "duration": -414,
    "start_time": "2021-09-09T16:41:48.384Z"
   },
   {
    "duration": -419,
    "start_time": "2021-09-09T16:41:48.391Z"
   },
   {
    "duration": -423,
    "start_time": "2021-09-09T16:41:48.396Z"
   },
   {
    "duration": -427,
    "start_time": "2021-09-09T16:41:48.401Z"
   },
   {
    "duration": -433,
    "start_time": "2021-09-09T16:41:48.409Z"
   },
   {
    "duration": 96,
    "start_time": "2021-09-09T16:42:17.890Z"
   },
   {
    "duration": 1934,
    "start_time": "2021-09-09T21:13:33.028Z"
   },
   {
    "duration": 20,
    "start_time": "2021-09-09T21:13:34.964Z"
   },
   {
    "duration": 14,
    "start_time": "2021-09-09T21:13:34.986Z"
   },
   {
    "duration": 27,
    "start_time": "2021-09-09T21:13:35.002Z"
   },
   {
    "duration": 50,
    "start_time": "2021-09-09T21:13:35.031Z"
   },
   {
    "duration": 87,
    "start_time": "2021-09-09T21:13:35.083Z"
   },
   {
    "duration": 498,
    "start_time": "2021-09-09T21:13:35.172Z"
   },
   {
    "duration": 897,
    "start_time": "2021-09-09T21:13:35.674Z"
   },
   {
    "duration": -18,
    "start_time": "2021-09-09T21:13:36.591Z"
   },
   {
    "duration": -20,
    "start_time": "2021-09-09T21:13:36.594Z"
   },
   {
    "duration": -20,
    "start_time": "2021-09-09T21:13:36.595Z"
   },
   {
    "duration": -21,
    "start_time": "2021-09-09T21:13:36.596Z"
   },
   {
    "duration": -22,
    "start_time": "2021-09-09T21:13:36.598Z"
   },
   {
    "duration": -22,
    "start_time": "2021-09-09T21:13:36.599Z"
   },
   {
    "duration": -22,
    "start_time": "2021-09-09T21:13:36.600Z"
   },
   {
    "duration": -22,
    "start_time": "2021-09-09T21:13:36.601Z"
   },
   {
    "duration": -22,
    "start_time": "2021-09-09T21:13:36.602Z"
   },
   {
    "duration": -23,
    "start_time": "2021-09-09T21:13:36.604Z"
   },
   {
    "duration": -23,
    "start_time": "2021-09-09T21:13:36.605Z"
   },
   {
    "duration": -23,
    "start_time": "2021-09-09T21:13:36.606Z"
   },
   {
    "duration": -23,
    "start_time": "2021-09-09T21:13:36.607Z"
   },
   {
    "duration": -23,
    "start_time": "2021-09-09T21:13:36.608Z"
   },
   {
    "duration": -23,
    "start_time": "2021-09-09T21:13:36.609Z"
   },
   {
    "duration": -23,
    "start_time": "2021-09-09T21:13:36.610Z"
   },
   {
    "duration": -23,
    "start_time": "2021-09-09T21:13:36.611Z"
   },
   {
    "duration": -23,
    "start_time": "2021-09-09T21:13:36.612Z"
   },
   {
    "duration": -23,
    "start_time": "2021-09-09T21:13:36.613Z"
   },
   {
    "duration": -24,
    "start_time": "2021-09-09T21:13:36.614Z"
   },
   {
    "duration": -200,
    "start_time": "2021-09-09T21:13:36.791Z"
   },
   {
    "duration": -200,
    "start_time": "2021-09-09T21:13:36.792Z"
   },
   {
    "duration": -200,
    "start_time": "2021-09-09T21:13:36.793Z"
   },
   {
    "duration": -200,
    "start_time": "2021-09-09T21:13:36.794Z"
   },
   {
    "duration": -200,
    "start_time": "2021-09-09T21:13:36.795Z"
   },
   {
    "duration": -201,
    "start_time": "2021-09-09T21:13:36.797Z"
   },
   {
    "duration": 1839,
    "start_time": "2021-09-09T21:14:27.091Z"
   },
   {
    "duration": 19,
    "start_time": "2021-09-09T21:14:28.932Z"
   },
   {
    "duration": 11,
    "start_time": "2021-09-09T21:14:28.953Z"
   },
   {
    "duration": 11,
    "start_time": "2021-09-09T21:14:28.965Z"
   },
   {
    "duration": 19,
    "start_time": "2021-09-09T21:14:28.977Z"
   },
   {
    "duration": 117,
    "start_time": "2021-09-09T21:14:28.998Z"
   },
   {
    "duration": 688,
    "start_time": "2021-09-09T21:14:29.117Z"
   },
   {
    "duration": 890,
    "start_time": "2021-09-09T21:14:29.808Z"
   },
   {
    "duration": -9,
    "start_time": "2021-09-09T21:14:30.710Z"
   },
   {
    "duration": -13,
    "start_time": "2021-09-09T21:14:30.715Z"
   },
   {
    "duration": -14,
    "start_time": "2021-09-09T21:14:30.717Z"
   },
   {
    "duration": -15,
    "start_time": "2021-09-09T21:14:30.718Z"
   },
   {
    "duration": -14,
    "start_time": "2021-09-09T21:14:30.719Z"
   },
   {
    "duration": -15,
    "start_time": "2021-09-09T21:14:30.721Z"
   },
   {
    "duration": -18,
    "start_time": "2021-09-09T21:14:30.724Z"
   },
   {
    "duration": -18,
    "start_time": "2021-09-09T21:14:30.725Z"
   },
   {
    "duration": -18,
    "start_time": "2021-09-09T21:14:30.726Z"
   },
   {
    "duration": -18,
    "start_time": "2021-09-09T21:14:30.727Z"
   },
   {
    "duration": -19,
    "start_time": "2021-09-09T21:14:30.728Z"
   },
   {
    "duration": -19,
    "start_time": "2021-09-09T21:14:30.729Z"
   },
   {
    "duration": -19,
    "start_time": "2021-09-09T21:14:30.730Z"
   },
   {
    "duration": -20,
    "start_time": "2021-09-09T21:14:30.731Z"
   },
   {
    "duration": -20,
    "start_time": "2021-09-09T21:14:30.732Z"
   },
   {
    "duration": -20,
    "start_time": "2021-09-09T21:14:30.733Z"
   },
   {
    "duration": -20,
    "start_time": "2021-09-09T21:14:30.734Z"
   },
   {
    "duration": -21,
    "start_time": "2021-09-09T21:14:30.735Z"
   },
   {
    "duration": -21,
    "start_time": "2021-09-09T21:14:30.736Z"
   },
   {
    "duration": -186,
    "start_time": "2021-09-09T21:14:30.902Z"
   },
   {
    "duration": -186,
    "start_time": "2021-09-09T21:14:30.903Z"
   },
   {
    "duration": -186,
    "start_time": "2021-09-09T21:14:30.904Z"
   },
   {
    "duration": -186,
    "start_time": "2021-09-09T21:14:30.905Z"
   },
   {
    "duration": -186,
    "start_time": "2021-09-09T21:14:30.906Z"
   },
   {
    "duration": -187,
    "start_time": "2021-09-09T21:14:30.908Z"
   },
   {
    "duration": -187,
    "start_time": "2021-09-09T21:14:30.909Z"
   },
   {
    "duration": -187,
    "start_time": "2021-09-09T21:14:30.910Z"
   },
   {
    "duration": 778,
    "start_time": "2021-09-09T21:15:10.132Z"
   },
   {
    "duration": 416,
    "start_time": "2021-09-09T21:15:21.630Z"
   },
   {
    "duration": 472,
    "start_time": "2021-09-09T21:15:50.270Z"
   },
   {
    "duration": 464,
    "start_time": "2021-09-09T21:16:13.073Z"
   },
   {
    "duration": 1859,
    "start_time": "2021-09-09T21:17:36.874Z"
   },
   {
    "duration": 18,
    "start_time": "2021-09-09T21:17:38.735Z"
   },
   {
    "duration": 10,
    "start_time": "2021-09-09T21:17:38.755Z"
   },
   {
    "duration": 19,
    "start_time": "2021-09-09T21:17:38.766Z"
   },
   {
    "duration": 22,
    "start_time": "2021-09-09T21:17:38.787Z"
   },
   {
    "duration": 144,
    "start_time": "2021-09-09T21:17:38.811Z"
   },
   {
    "duration": 496,
    "start_time": "2021-09-09T21:17:38.956Z"
   },
   {
    "duration": 437,
    "start_time": "2021-09-09T21:17:39.454Z"
   },
   {
    "duration": 535,
    "start_time": "2021-09-09T21:17:39.893Z"
   },
   {
    "duration": -423,
    "start_time": "2021-09-09T21:17:40.853Z"
   },
   {
    "duration": -422,
    "start_time": "2021-09-09T21:17:40.854Z"
   },
   {
    "duration": -422,
    "start_time": "2021-09-09T21:17:40.855Z"
   },
   {
    "duration": -421,
    "start_time": "2021-09-09T21:17:40.856Z"
   },
   {
    "duration": -422,
    "start_time": "2021-09-09T21:17:40.858Z"
   },
   {
    "duration": -421,
    "start_time": "2021-09-09T21:17:40.859Z"
   },
   {
    "duration": -421,
    "start_time": "2021-09-09T21:17:40.860Z"
   },
   {
    "duration": -612,
    "start_time": "2021-09-09T21:17:41.053Z"
   },
   {
    "duration": -615,
    "start_time": "2021-09-09T21:17:41.057Z"
   },
   {
    "duration": -615,
    "start_time": "2021-09-09T21:17:41.058Z"
   },
   {
    "duration": -614,
    "start_time": "2021-09-09T21:17:41.059Z"
   },
   {
    "duration": -615,
    "start_time": "2021-09-09T21:17:41.061Z"
   },
   {
    "duration": -615,
    "start_time": "2021-09-09T21:17:41.062Z"
   },
   {
    "duration": -617,
    "start_time": "2021-09-09T21:17:41.066Z"
   },
   {
    "duration": -618,
    "start_time": "2021-09-09T21:17:41.068Z"
   },
   {
    "duration": -803,
    "start_time": "2021-09-09T21:17:41.254Z"
   },
   {
    "duration": -803,
    "start_time": "2021-09-09T21:17:41.255Z"
   },
   {
    "duration": -802,
    "start_time": "2021-09-09T21:17:41.256Z"
   },
   {
    "duration": -802,
    "start_time": "2021-09-09T21:17:41.257Z"
   },
   {
    "duration": -801,
    "start_time": "2021-09-09T21:17:41.258Z"
   },
   {
    "duration": -801,
    "start_time": "2021-09-09T21:17:41.259Z"
   },
   {
    "duration": -801,
    "start_time": "2021-09-09T21:17:41.260Z"
   },
   {
    "duration": -992,
    "start_time": "2021-09-09T21:17:41.453Z"
   },
   {
    "duration": -995,
    "start_time": "2021-09-09T21:17:41.457Z"
   },
   {
    "duration": -994,
    "start_time": "2021-09-09T21:17:41.458Z"
   },
   {
    "duration": -994,
    "start_time": "2021-09-09T21:17:41.459Z"
   },
   {
    "duration": 485,
    "start_time": "2021-09-09T21:18:42.351Z"
   },
   {
    "duration": 448,
    "start_time": "2021-09-09T21:20:19.601Z"
   },
   {
    "duration": 1282,
    "start_time": "2021-09-09T21:20:31.990Z"
   },
   {
    "duration": 806,
    "start_time": "2021-09-09T21:23:30.747Z"
   },
   {
    "duration": 442,
    "start_time": "2021-09-09T21:23:48.148Z"
   },
   {
    "duration": 830,
    "start_time": "2021-09-09T21:24:18.244Z"
   },
   {
    "duration": 492,
    "start_time": "2021-09-09T21:27:35.524Z"
   },
   {
    "duration": 460,
    "start_time": "2021-09-09T21:27:54.389Z"
   },
   {
    "duration": 476,
    "start_time": "2021-09-09T21:30:29.658Z"
   },
   {
    "duration": 471,
    "start_time": "2021-09-09T21:30:38.376Z"
   },
   {
    "duration": 497,
    "start_time": "2021-09-09T21:33:58.570Z"
   },
   {
    "duration": 475,
    "start_time": "2021-09-09T21:34:22.669Z"
   },
   {
    "duration": 516,
    "start_time": "2021-09-09T21:34:50.271Z"
   },
   {
    "duration": 472,
    "start_time": "2021-09-09T21:39:15.662Z"
   },
   {
    "duration": 2025,
    "start_time": "2021-09-09T21:41:02.628Z"
   },
   {
    "duration": 20,
    "start_time": "2021-09-09T21:41:04.656Z"
   },
   {
    "duration": 13,
    "start_time": "2021-09-09T21:41:04.678Z"
   },
   {
    "duration": 11,
    "start_time": "2021-09-09T21:41:04.693Z"
   },
   {
    "duration": 39,
    "start_time": "2021-09-09T21:41:04.706Z"
   },
   {
    "duration": 101,
    "start_time": "2021-09-09T21:41:04.747Z"
   },
   {
    "duration": 812,
    "start_time": "2021-09-09T21:41:04.849Z"
   },
   {
    "duration": 539,
    "start_time": "2021-09-09T21:41:05.663Z"
   },
   {
    "duration": -8,
    "start_time": "2021-09-09T21:41:06.214Z"
   },
   {
    "duration": -8,
    "start_time": "2021-09-09T21:41:06.215Z"
   },
   {
    "duration": -9,
    "start_time": "2021-09-09T21:41:06.217Z"
   },
   {
    "duration": -8,
    "start_time": "2021-09-09T21:41:06.218Z"
   },
   {
    "duration": -8,
    "start_time": "2021-09-09T21:41:06.219Z"
   },
   {
    "duration": -13,
    "start_time": "2021-09-09T21:41:06.226Z"
   },
   {
    "duration": -13,
    "start_time": "2021-09-09T21:41:06.227Z"
   },
   {
    "duration": -12,
    "start_time": "2021-09-09T21:41:06.228Z"
   },
   {
    "duration": -13,
    "start_time": "2021-09-09T21:41:06.230Z"
   },
   {
    "duration": -13,
    "start_time": "2021-09-09T21:41:06.231Z"
   },
   {
    "duration": -12,
    "start_time": "2021-09-09T21:41:06.232Z"
   },
   {
    "duration": -12,
    "start_time": "2021-09-09T21:41:06.233Z"
   },
   {
    "duration": -12,
    "start_time": "2021-09-09T21:41:06.235Z"
   },
   {
    "duration": -12,
    "start_time": "2021-09-09T21:41:06.236Z"
   },
   {
    "duration": -12,
    "start_time": "2021-09-09T21:41:06.237Z"
   },
   {
    "duration": -11,
    "start_time": "2021-09-09T21:41:06.238Z"
   },
   {
    "duration": -10,
    "start_time": "2021-09-09T21:41:06.239Z"
   },
   {
    "duration": -10,
    "start_time": "2021-09-09T21:41:06.240Z"
   },
   {
    "duration": -10,
    "start_time": "2021-09-09T21:41:06.241Z"
   },
   {
    "duration": -174,
    "start_time": "2021-09-09T21:41:06.407Z"
   },
   {
    "duration": -176,
    "start_time": "2021-09-09T21:41:06.410Z"
   },
   {
    "duration": -175,
    "start_time": "2021-09-09T21:41:06.411Z"
   },
   {
    "duration": -175,
    "start_time": "2021-09-09T21:41:06.412Z"
   },
   {
    "duration": -174,
    "start_time": "2021-09-09T21:41:06.413Z"
   },
   {
    "duration": -174,
    "start_time": "2021-09-09T21:41:06.414Z"
   },
   {
    "duration": -173,
    "start_time": "2021-09-09T21:41:06.415Z"
   },
   {
    "duration": -173,
    "start_time": "2021-09-09T21:41:06.416Z"
   },
   {
    "duration": 487,
    "start_time": "2021-09-09T21:41:27.418Z"
   },
   {
    "duration": 129,
    "start_time": "2021-09-09T21:41:38.021Z"
   },
   {
    "duration": 127,
    "start_time": "2021-09-09T21:41:54.414Z"
   },
   {
    "duration": 1979,
    "start_time": "2021-09-09T21:42:32.768Z"
   },
   {
    "duration": 18,
    "start_time": "2021-09-09T21:42:34.749Z"
   },
   {
    "duration": 12,
    "start_time": "2021-09-09T21:42:34.769Z"
   },
   {
    "duration": 11,
    "start_time": "2021-09-09T21:42:34.782Z"
   },
   {
    "duration": 17,
    "start_time": "2021-09-09T21:42:34.795Z"
   },
   {
    "duration": 109,
    "start_time": "2021-09-09T21:42:34.814Z"
   },
   {
    "duration": 583,
    "start_time": "2021-09-09T21:42:34.925Z"
   },
   {
    "duration": 134,
    "start_time": "2021-09-09T21:42:35.510Z"
   },
   {
    "duration": 579,
    "start_time": "2021-09-09T21:42:35.646Z"
   },
   {
    "duration": -14,
    "start_time": "2021-09-09T21:42:36.241Z"
   },
   {
    "duration": -14,
    "start_time": "2021-09-09T21:42:36.243Z"
   },
   {
    "duration": -13,
    "start_time": "2021-09-09T21:42:36.244Z"
   },
   {
    "duration": -13,
    "start_time": "2021-09-09T21:42:36.245Z"
   },
   {
    "duration": -13,
    "start_time": "2021-09-09T21:42:36.246Z"
   },
   {
    "duration": -12,
    "start_time": "2021-09-09T21:42:36.247Z"
   },
   {
    "duration": -12,
    "start_time": "2021-09-09T21:42:36.248Z"
   },
   {
    "duration": -11,
    "start_time": "2021-09-09T21:42:36.249Z"
   },
   {
    "duration": -11,
    "start_time": "2021-09-09T21:42:36.250Z"
   },
   {
    "duration": -10,
    "start_time": "2021-09-09T21:42:36.251Z"
   },
   {
    "duration": -10,
    "start_time": "2021-09-09T21:42:36.252Z"
   },
   {
    "duration": -10,
    "start_time": "2021-09-09T21:42:36.253Z"
   },
   {
    "duration": -13,
    "start_time": "2021-09-09T21:42:36.258Z"
   },
   {
    "duration": -13,
    "start_time": "2021-09-09T21:42:36.259Z"
   },
   {
    "duration": -12,
    "start_time": "2021-09-09T21:42:36.260Z"
   },
   {
    "duration": -12,
    "start_time": "2021-09-09T21:42:36.261Z"
   },
   {
    "duration": -12,
    "start_time": "2021-09-09T21:42:36.262Z"
   },
   {
    "duration": -11,
    "start_time": "2021-09-09T21:42:36.263Z"
   },
   {
    "duration": -11,
    "start_time": "2021-09-09T21:42:36.264Z"
   },
   {
    "duration": -10,
    "start_time": "2021-09-09T21:42:36.265Z"
   },
   {
    "duration": -10,
    "start_time": "2021-09-09T21:42:36.266Z"
   },
   {
    "duration": -10,
    "start_time": "2021-09-09T21:42:36.267Z"
   },
   {
    "duration": -9,
    "start_time": "2021-09-09T21:42:36.268Z"
   },
   {
    "duration": -9,
    "start_time": "2021-09-09T21:42:36.269Z"
   },
   {
    "duration": -13,
    "start_time": "2021-09-09T21:42:36.274Z"
   },
   {
    "duration": -12,
    "start_time": "2021-09-09T21:42:36.275Z"
   },
   {
    "duration": 1879,
    "start_time": "2021-09-09T21:44:52.393Z"
   },
   {
    "duration": 20,
    "start_time": "2021-09-09T21:44:54.273Z"
   },
   {
    "duration": 11,
    "start_time": "2021-09-09T21:44:54.295Z"
   },
   {
    "duration": 11,
    "start_time": "2021-09-09T21:44:54.308Z"
   },
   {
    "duration": 19,
    "start_time": "2021-09-09T21:44:54.320Z"
   },
   {
    "duration": 100,
    "start_time": "2021-09-09T21:44:54.341Z"
   },
   {
    "duration": 510,
    "start_time": "2021-09-09T21:44:54.442Z"
   },
   {
    "duration": 10017,
    "start_time": "2021-09-09T21:44:54.955Z"
   },
   {
    "duration": -14,
    "start_time": "2021-09-09T21:45:04.989Z"
   },
   {
    "duration": -14,
    "start_time": "2021-09-09T21:45:04.990Z"
   },
   {
    "duration": -14,
    "start_time": "2021-09-09T21:45:04.991Z"
   },
   {
    "duration": -14,
    "start_time": "2021-09-09T21:45:04.992Z"
   },
   {
    "duration": -14,
    "start_time": "2021-09-09T21:45:04.993Z"
   },
   {
    "duration": -15,
    "start_time": "2021-09-09T21:45:04.995Z"
   },
   {
    "duration": -15,
    "start_time": "2021-09-09T21:45:04.996Z"
   },
   {
    "duration": -15,
    "start_time": "2021-09-09T21:45:04.997Z"
   },
   {
    "duration": -15,
    "start_time": "2021-09-09T21:45:04.998Z"
   },
   {
    "duration": -15,
    "start_time": "2021-09-09T21:45:04.999Z"
   },
   {
    "duration": -15,
    "start_time": "2021-09-09T21:45:05.000Z"
   },
   {
    "duration": -15,
    "start_time": "2021-09-09T21:45:05.001Z"
   },
   {
    "duration": -15,
    "start_time": "2021-09-09T21:45:05.002Z"
   },
   {
    "duration": -15,
    "start_time": "2021-09-09T21:45:05.003Z"
   },
   {
    "duration": -15,
    "start_time": "2021-09-09T21:45:05.003Z"
   },
   {
    "duration": -193,
    "start_time": "2021-09-09T21:45:05.182Z"
   },
   {
    "duration": -194,
    "start_time": "2021-09-09T21:45:05.184Z"
   },
   {
    "duration": -194,
    "start_time": "2021-09-09T21:45:05.185Z"
   },
   {
    "duration": -194,
    "start_time": "2021-09-09T21:45:05.186Z"
   },
   {
    "duration": -193,
    "start_time": "2021-09-09T21:45:05.187Z"
   },
   {
    "duration": -193,
    "start_time": "2021-09-09T21:45:05.188Z"
   },
   {
    "duration": -194,
    "start_time": "2021-09-09T21:45:05.189Z"
   },
   {
    "duration": -194,
    "start_time": "2021-09-09T21:45:05.190Z"
   },
   {
    "duration": -193,
    "start_time": "2021-09-09T21:45:05.191Z"
   },
   {
    "duration": -194,
    "start_time": "2021-09-09T21:45:05.192Z"
   },
   {
    "duration": -193,
    "start_time": "2021-09-09T21:45:05.193Z"
   },
   {
    "duration": -193,
    "start_time": "2021-09-09T21:45:05.194Z"
   },
   {
    "duration": 1977,
    "start_time": "2021-09-09T21:45:42.064Z"
   },
   {
    "duration": 1866,
    "start_time": "2021-09-09T21:45:50.894Z"
   },
   {
    "duration": 19,
    "start_time": "2021-09-09T21:45:52.762Z"
   },
   {
    "duration": 11,
    "start_time": "2021-09-09T21:45:52.783Z"
   },
   {
    "duration": 11,
    "start_time": "2021-09-09T21:45:52.796Z"
   },
   {
    "duration": 14,
    "start_time": "2021-09-09T21:45:52.809Z"
   },
   {
    "duration": 104,
    "start_time": "2021-09-09T21:45:52.824Z"
   },
   {
    "duration": 509,
    "start_time": "2021-09-09T21:45:52.930Z"
   },
   {
    "duration": 1983,
    "start_time": "2021-09-09T21:45:53.442Z"
   },
   {
    "duration": -16,
    "start_time": "2021-09-09T21:45:55.444Z"
   },
   {
    "duration": -17,
    "start_time": "2021-09-09T21:45:55.446Z"
   },
   {
    "duration": -18,
    "start_time": "2021-09-09T21:45:55.447Z"
   },
   {
    "duration": -19,
    "start_time": "2021-09-09T21:45:55.449Z"
   },
   {
    "duration": -20,
    "start_time": "2021-09-09T21:45:55.451Z"
   },
   {
    "duration": -20,
    "start_time": "2021-09-09T21:45:55.452Z"
   },
   {
    "duration": -20,
    "start_time": "2021-09-09T21:45:55.453Z"
   },
   {
    "duration": -21,
    "start_time": "2021-09-09T21:45:55.454Z"
   },
   {
    "duration": -24,
    "start_time": "2021-09-09T21:45:55.458Z"
   },
   {
    "duration": -24,
    "start_time": "2021-09-09T21:45:55.459Z"
   },
   {
    "duration": -25,
    "start_time": "2021-09-09T21:45:55.461Z"
   },
   {
    "duration": -25,
    "start_time": "2021-09-09T21:45:55.461Z"
   },
   {
    "duration": -26,
    "start_time": "2021-09-09T21:45:55.463Z"
   },
   {
    "duration": -25,
    "start_time": "2021-09-09T21:45:55.463Z"
   },
   {
    "duration": -26,
    "start_time": "2021-09-09T21:45:55.465Z"
   },
   {
    "duration": -27,
    "start_time": "2021-09-09T21:45:55.466Z"
   },
   {
    "duration": -27,
    "start_time": "2021-09-09T21:45:55.467Z"
   },
   {
    "duration": -28,
    "start_time": "2021-09-09T21:45:55.469Z"
   },
   {
    "duration": -191,
    "start_time": "2021-09-09T21:45:55.633Z"
   },
   {
    "duration": -191,
    "start_time": "2021-09-09T21:45:55.634Z"
   },
   {
    "duration": -192,
    "start_time": "2021-09-09T21:45:55.635Z"
   },
   {
    "duration": -192,
    "start_time": "2021-09-09T21:45:55.636Z"
   },
   {
    "duration": -192,
    "start_time": "2021-09-09T21:45:55.637Z"
   },
   {
    "duration": -192,
    "start_time": "2021-09-09T21:45:55.638Z"
   },
   {
    "duration": -193,
    "start_time": "2021-09-09T21:45:55.640Z"
   },
   {
    "duration": -192,
    "start_time": "2021-09-09T21:45:55.640Z"
   },
   {
    "duration": -193,
    "start_time": "2021-09-09T21:45:55.641Z"
   },
   {
    "duration": 1883,
    "start_time": "2021-09-09T21:46:45.536Z"
   },
   {
    "duration": 19,
    "start_time": "2021-09-09T21:46:47.420Z"
   },
   {
    "duration": 12,
    "start_time": "2021-09-09T21:46:47.440Z"
   },
   {
    "duration": 23,
    "start_time": "2021-09-09T21:46:47.454Z"
   },
   {
    "duration": 29,
    "start_time": "2021-09-09T21:46:47.479Z"
   },
   {
    "duration": 91,
    "start_time": "2021-09-09T21:46:47.510Z"
   },
   {
    "duration": 502,
    "start_time": "2021-09-09T21:46:47.603Z"
   },
   {
    "duration": 636,
    "start_time": "2021-09-09T21:46:48.109Z"
   },
   {
    "duration": 698,
    "start_time": "2021-09-09T21:46:48.747Z"
   },
   {
    "duration": -8,
    "start_time": "2021-09-09T21:46:49.456Z"
   },
   {
    "duration": -8,
    "start_time": "2021-09-09T21:46:49.457Z"
   },
   {
    "duration": -8,
    "start_time": "2021-09-09T21:46:49.458Z"
   },
   {
    "duration": -9,
    "start_time": "2021-09-09T21:46:49.459Z"
   },
   {
    "duration": -9,
    "start_time": "2021-09-09T21:46:49.460Z"
   },
   {
    "duration": -9,
    "start_time": "2021-09-09T21:46:49.461Z"
   },
   {
    "duration": -9,
    "start_time": "2021-09-09T21:46:49.462Z"
   },
   {
    "duration": -10,
    "start_time": "2021-09-09T21:46:49.464Z"
   },
   {
    "duration": -11,
    "start_time": "2021-09-09T21:46:49.465Z"
   },
   {
    "duration": -11,
    "start_time": "2021-09-09T21:46:49.466Z"
   },
   {
    "duration": -11,
    "start_time": "2021-09-09T21:46:49.467Z"
   },
   {
    "duration": -11,
    "start_time": "2021-09-09T21:46:49.468Z"
   },
   {
    "duration": -11,
    "start_time": "2021-09-09T21:46:49.469Z"
   },
   {
    "duration": -14,
    "start_time": "2021-09-09T21:46:49.473Z"
   },
   {
    "duration": -14,
    "start_time": "2021-09-09T21:46:49.474Z"
   },
   {
    "duration": -15,
    "start_time": "2021-09-09T21:46:49.475Z"
   },
   {
    "duration": -14,
    "start_time": "2021-09-09T21:46:49.475Z"
   },
   {
    "duration": -188,
    "start_time": "2021-09-09T21:46:49.650Z"
   },
   {
    "duration": -188,
    "start_time": "2021-09-09T21:46:49.651Z"
   },
   {
    "duration": -188,
    "start_time": "2021-09-09T21:46:49.652Z"
   },
   {
    "duration": -189,
    "start_time": "2021-09-09T21:46:49.653Z"
   },
   {
    "duration": -189,
    "start_time": "2021-09-09T21:46:49.654Z"
   },
   {
    "duration": -189,
    "start_time": "2021-09-09T21:46:49.655Z"
   },
   {
    "duration": -189,
    "start_time": "2021-09-09T21:46:49.656Z"
   },
   {
    "duration": -189,
    "start_time": "2021-09-09T21:46:49.657Z"
   },
   {
    "duration": -190,
    "start_time": "2021-09-09T21:46:49.658Z"
   },
   {
    "duration": 1094,
    "start_time": "2021-09-09T21:48:10.063Z"
   },
   {
    "duration": 1944,
    "start_time": "2021-09-09T21:48:58.341Z"
   },
   {
    "duration": 20,
    "start_time": "2021-09-09T21:49:00.287Z"
   },
   {
    "duration": 11,
    "start_time": "2021-09-09T21:49:00.309Z"
   },
   {
    "duration": 11,
    "start_time": "2021-09-09T21:49:00.322Z"
   },
   {
    "duration": 22,
    "start_time": "2021-09-09T21:49:00.335Z"
   },
   {
    "duration": 101,
    "start_time": "2021-09-09T21:49:00.359Z"
   },
   {
    "duration": 521,
    "start_time": "2021-09-09T21:49:00.462Z"
   },
   {
    "duration": 500,
    "start_time": "2021-09-09T21:49:00.986Z"
   },
   {
    "duration": 553,
    "start_time": "2021-09-09T21:49:01.488Z"
   },
   {
    "duration": -26,
    "start_time": "2021-09-09T21:49:02.069Z"
   },
   {
    "duration": -29,
    "start_time": "2021-09-09T21:49:02.073Z"
   },
   {
    "duration": -28,
    "start_time": "2021-09-09T21:49:02.074Z"
   },
   {
    "duration": -29,
    "start_time": "2021-09-09T21:49:02.075Z"
   },
   {
    "duration": -29,
    "start_time": "2021-09-09T21:49:02.076Z"
   },
   {
    "duration": -30,
    "start_time": "2021-09-09T21:49:02.078Z"
   },
   {
    "duration": -30,
    "start_time": "2021-09-09T21:49:02.079Z"
   },
   {
    "duration": -30,
    "start_time": "2021-09-09T21:49:02.080Z"
   },
   {
    "duration": -31,
    "start_time": "2021-09-09T21:49:02.081Z"
   },
   {
    "duration": -31,
    "start_time": "2021-09-09T21:49:02.082Z"
   },
   {
    "duration": -31,
    "start_time": "2021-09-09T21:49:02.083Z"
   },
   {
    "duration": -31,
    "start_time": "2021-09-09T21:49:02.084Z"
   },
   {
    "duration": -32,
    "start_time": "2021-09-09T21:49:02.085Z"
   },
   {
    "duration": -36,
    "start_time": "2021-09-09T21:49:02.090Z"
   },
   {
    "duration": -36,
    "start_time": "2021-09-09T21:49:02.091Z"
   },
   {
    "duration": -37,
    "start_time": "2021-09-09T21:49:02.092Z"
   },
   {
    "duration": -37,
    "start_time": "2021-09-09T21:49:02.093Z"
   },
   {
    "duration": -37,
    "start_time": "2021-09-09T21:49:02.094Z"
   },
   {
    "duration": -37,
    "start_time": "2021-09-09T21:49:02.095Z"
   },
   {
    "duration": -212,
    "start_time": "2021-09-09T21:49:02.270Z"
   },
   {
    "duration": -214,
    "start_time": "2021-09-09T21:49:02.273Z"
   },
   {
    "duration": -214,
    "start_time": "2021-09-09T21:49:02.274Z"
   },
   {
    "duration": -215,
    "start_time": "2021-09-09T21:49:02.275Z"
   },
   {
    "duration": -215,
    "start_time": "2021-09-09T21:49:02.276Z"
   },
   {
    "duration": -215,
    "start_time": "2021-09-09T21:49:02.277Z"
   },
   {
    "duration": -215,
    "start_time": "2021-09-09T21:49:02.278Z"
   },
   {
    "duration": 471,
    "start_time": "2021-09-09T21:52:38.821Z"
   },
   {
    "duration": 2038,
    "start_time": "2021-09-09T21:54:59.137Z"
   },
   {
    "duration": 832,
    "start_time": "2021-09-09T21:58:20.213Z"
   },
   {
    "duration": 471,
    "start_time": "2021-09-09T21:58:57.632Z"
   },
   {
    "duration": 1854,
    "start_time": "2021-09-09T22:03:34.273Z"
   },
   {
    "duration": 19,
    "start_time": "2021-09-09T22:03:36.129Z"
   },
   {
    "duration": 11,
    "start_time": "2021-09-09T22:03:36.150Z"
   },
   {
    "duration": 10,
    "start_time": "2021-09-09T22:03:36.162Z"
   },
   {
    "duration": 13,
    "start_time": "2021-09-09T22:03:36.174Z"
   },
   {
    "duration": 117,
    "start_time": "2021-09-09T22:03:36.188Z"
   },
   {
    "duration": 505,
    "start_time": "2021-09-09T22:03:36.306Z"
   },
   {
    "duration": 105,
    "start_time": "2021-09-09T22:03:36.813Z"
   },
   {
    "duration": 539,
    "start_time": "2021-09-09T22:03:36.919Z"
   },
   {
    "duration": -5,
    "start_time": "2021-09-09T22:03:37.466Z"
   },
   {
    "duration": -8,
    "start_time": "2021-09-09T22:03:37.470Z"
   },
   {
    "duration": -7,
    "start_time": "2021-09-09T22:03:37.471Z"
   },
   {
    "duration": -8,
    "start_time": "2021-09-09T22:03:37.473Z"
   },
   {
    "duration": -7,
    "start_time": "2021-09-09T22:03:37.474Z"
   },
   {
    "duration": -7,
    "start_time": "2021-09-09T22:03:37.475Z"
   },
   {
    "duration": -6,
    "start_time": "2021-09-09T22:03:37.477Z"
   },
   {
    "duration": -6,
    "start_time": "2021-09-09T22:03:37.478Z"
   },
   {
    "duration": -6,
    "start_time": "2021-09-09T22:03:37.480Z"
   },
   {
    "duration": -6,
    "start_time": "2021-09-09T22:03:37.481Z"
   },
   {
    "duration": -6,
    "start_time": "2021-09-09T22:03:37.482Z"
   },
   {
    "duration": -5,
    "start_time": "2021-09-09T22:03:37.483Z"
   },
   {
    "duration": -174,
    "start_time": "2021-09-09T22:03:37.653Z"
   },
   {
    "duration": -173,
    "start_time": "2021-09-09T22:03:37.654Z"
   },
   {
    "duration": -174,
    "start_time": "2021-09-09T22:03:37.656Z"
   },
   {
    "duration": -173,
    "start_time": "2021-09-09T22:03:37.657Z"
   },
   {
    "duration": -173,
    "start_time": "2021-09-09T22:03:37.658Z"
   },
   {
    "duration": -173,
    "start_time": "2021-09-09T22:03:37.659Z"
   },
   {
    "duration": -172,
    "start_time": "2021-09-09T22:03:37.660Z"
   },
   {
    "duration": -172,
    "start_time": "2021-09-09T22:03:37.661Z"
   },
   {
    "duration": -172,
    "start_time": "2021-09-09T22:03:37.662Z"
   },
   {
    "duration": -171,
    "start_time": "2021-09-09T22:03:37.663Z"
   },
   {
    "duration": -171,
    "start_time": "2021-09-09T22:03:37.664Z"
   },
   {
    "duration": -170,
    "start_time": "2021-09-09T22:03:37.665Z"
   },
   {
    "duration": -174,
    "start_time": "2021-09-09T22:03:37.670Z"
   },
   {
    "duration": -348,
    "start_time": "2021-09-09T22:03:37.846Z"
   },
   {
    "duration": 1508,
    "start_time": "2021-09-09T22:04:20.922Z"
   },
   {
    "duration": 104,
    "start_time": "2021-09-09T22:04:30.529Z"
   },
   {
    "duration": 111,
    "start_time": "2021-09-09T22:04:44.231Z"
   },
   {
    "duration": 104,
    "start_time": "2021-09-09T22:05:24.024Z"
   },
   {
    "duration": 8731,
    "start_time": "2021-09-09T22:05:41.062Z"
   },
   {
    "duration": 290,
    "start_time": "2021-09-09T22:06:04.010Z"
   },
   {
    "duration": 1929,
    "start_time": "2021-09-09T22:07:19.562Z"
   },
   {
    "duration": 19,
    "start_time": "2021-09-09T22:07:21.493Z"
   },
   {
    "duration": 10,
    "start_time": "2021-09-09T22:07:21.514Z"
   },
   {
    "duration": 11,
    "start_time": "2021-09-09T22:07:21.526Z"
   },
   {
    "duration": 15,
    "start_time": "2021-09-09T22:07:21.539Z"
   },
   {
    "duration": 94,
    "start_time": "2021-09-09T22:07:21.555Z"
   },
   {
    "duration": 498,
    "start_time": "2021-09-09T22:07:21.651Z"
   },
   {
    "duration": 755,
    "start_time": "2021-09-09T22:07:22.151Z"
   },
   {
    "duration": 53,
    "start_time": "2021-09-09T22:07:22.908Z"
   },
   {
    "duration": 118,
    "start_time": "2021-09-09T22:07:22.963Z"
   },
   {
    "duration": 123,
    "start_time": "2021-09-09T22:07:23.083Z"
   },
   {
    "duration": 256,
    "start_time": "2021-09-09T22:07:23.207Z"
   },
   {
    "duration": 505,
    "start_time": "2021-09-09T22:07:23.465Z"
   },
   {
    "duration": 6,
    "start_time": "2021-09-09T22:07:23.971Z"
   },
   {
    "duration": 211,
    "start_time": "2021-09-09T22:07:23.978Z"
   },
   {
    "duration": 158,
    "start_time": "2021-09-09T22:07:24.191Z"
   },
   {
    "duration": 263,
    "start_time": "2021-09-09T22:07:24.351Z"
   },
   {
    "duration": 262,
    "start_time": "2021-09-09T22:07:24.616Z"
   },
   {
    "duration": 361,
    "start_time": "2021-09-09T22:07:24.880Z"
   },
   {
    "duration": 49,
    "start_time": "2021-09-09T22:07:25.242Z"
   },
   {
    "duration": 72,
    "start_time": "2021-09-09T22:07:25.293Z"
   },
   {
    "duration": 37,
    "start_time": "2021-09-09T22:07:25.367Z"
   },
   {
    "duration": 51,
    "start_time": "2021-09-09T22:07:25.405Z"
   },
   {
    "duration": 711,
    "start_time": "2021-09-09T22:07:25.458Z"
   },
   {
    "duration": 683,
    "start_time": "2021-09-09T22:07:26.171Z"
   },
   {
    "duration": 230,
    "start_time": "2021-09-09T22:07:26.856Z"
   },
   {
    "duration": 194,
    "start_time": "2021-09-09T22:07:27.089Z"
   },
   {
    "duration": 85,
    "start_time": "2021-09-09T22:07:27.285Z"
   },
   {
    "duration": 134,
    "start_time": "2021-09-09T22:07:27.371Z"
   },
   {
    "duration": 46,
    "start_time": "2021-09-09T22:07:27.506Z"
   },
   {
    "duration": 272,
    "start_time": "2021-09-09T22:07:27.554Z"
   },
   {
    "duration": 450,
    "start_time": "2021-09-09T22:07:27.827Z"
   },
   {
    "duration": 8,
    "start_time": "2021-09-09T22:07:28.278Z"
   },
   {
    "duration": 125,
    "start_time": "2021-09-09T22:07:28.288Z"
   },
   {
    "duration": 1885,
    "start_time": "2021-09-09T22:09:32.960Z"
   },
   {
    "duration": 20,
    "start_time": "2021-09-09T22:09:34.847Z"
   },
   {
    "duration": 13,
    "start_time": "2021-09-09T22:09:34.870Z"
   },
   {
    "duration": 12,
    "start_time": "2021-09-09T22:09:34.885Z"
   },
   {
    "duration": 48,
    "start_time": "2021-09-09T22:09:34.899Z"
   },
   {
    "duration": 101,
    "start_time": "2021-09-09T22:09:34.949Z"
   },
   {
    "duration": 495,
    "start_time": "2021-09-09T22:09:35.052Z"
   },
   {
    "duration": 743,
    "start_time": "2021-09-09T22:09:35.549Z"
   },
   {
    "duration": 54,
    "start_time": "2021-09-09T22:09:36.295Z"
   },
   {
    "duration": 117,
    "start_time": "2021-09-09T22:09:36.351Z"
   },
   {
    "duration": 122,
    "start_time": "2021-09-09T22:09:36.470Z"
   },
   {
    "duration": 247,
    "start_time": "2021-09-09T22:09:36.594Z"
   },
   {
    "duration": 479,
    "start_time": "2021-09-09T22:09:36.843Z"
   },
   {
    "duration": 5,
    "start_time": "2021-09-09T22:09:37.324Z"
   },
   {
    "duration": 209,
    "start_time": "2021-09-09T22:09:37.341Z"
   },
   {
    "duration": 151,
    "start_time": "2021-09-09T22:09:37.552Z"
   },
   {
    "duration": 263,
    "start_time": "2021-09-09T22:09:37.705Z"
   },
   {
    "duration": 267,
    "start_time": "2021-09-09T22:09:37.970Z"
   },
   {
    "duration": 353,
    "start_time": "2021-09-09T22:09:38.241Z"
   },
   {
    "duration": 58,
    "start_time": "2021-09-09T22:09:38.595Z"
   },
   {
    "duration": 58,
    "start_time": "2021-09-09T22:09:38.655Z"
   },
   {
    "duration": 53,
    "start_time": "2021-09-09T22:09:38.715Z"
   },
   {
    "duration": 34,
    "start_time": "2021-09-09T22:09:38.770Z"
   },
   {
    "duration": 717,
    "start_time": "2021-09-09T22:09:38.806Z"
   },
   {
    "duration": 709,
    "start_time": "2021-09-09T22:09:39.526Z"
   },
   {
    "duration": 224,
    "start_time": "2021-09-09T22:09:40.240Z"
   },
   {
    "duration": 187,
    "start_time": "2021-09-09T22:09:40.467Z"
   },
   {
    "duration": 85,
    "start_time": "2021-09-09T22:09:40.656Z"
   },
   {
    "duration": 135,
    "start_time": "2021-09-09T22:09:40.742Z"
   },
   {
    "duration": 37,
    "start_time": "2021-09-09T22:09:40.879Z"
   },
   {
    "duration": 274,
    "start_time": "2021-09-09T22:09:40.918Z"
   },
   {
    "duration": 469,
    "start_time": "2021-09-09T22:09:41.194Z"
   },
   {
    "duration": 8,
    "start_time": "2021-09-09T22:09:41.665Z"
   },
   {
    "duration": 130,
    "start_time": "2021-09-09T22:09:41.674Z"
   },
   {
    "duration": 1953,
    "start_time": "2021-09-10T21:40:21.647Z"
   },
   {
    "duration": 21,
    "start_time": "2021-09-10T21:40:23.602Z"
   },
   {
    "duration": 12,
    "start_time": "2021-09-10T21:40:23.626Z"
   },
   {
    "duration": 12,
    "start_time": "2021-09-10T21:40:23.641Z"
   },
   {
    "duration": 22,
    "start_time": "2021-09-10T21:40:23.656Z"
   },
   {
    "duration": 120,
    "start_time": "2021-09-10T21:40:23.680Z"
   },
   {
    "duration": 533,
    "start_time": "2021-09-10T21:40:23.803Z"
   },
   {
    "duration": 798,
    "start_time": "2021-09-10T21:40:24.343Z"
   },
   {
    "duration": 45,
    "start_time": "2021-09-10T21:40:25.143Z"
   },
   {
    "duration": 141,
    "start_time": "2021-09-10T21:40:25.190Z"
   },
   {
    "duration": 139,
    "start_time": "2021-09-10T21:40:25.333Z"
   },
   {
    "duration": 282,
    "start_time": "2021-09-10T21:40:25.474Z"
   },
   {
    "duration": 543,
    "start_time": "2021-09-10T21:40:25.758Z"
   },
   {
    "duration": 6,
    "start_time": "2021-09-10T21:40:26.303Z"
   },
   {
    "duration": 241,
    "start_time": "2021-09-10T21:40:26.312Z"
   },
   {
    "duration": 163,
    "start_time": "2021-09-10T21:40:26.555Z"
   },
   {
    "duration": 287,
    "start_time": "2021-09-10T21:40:26.720Z"
   },
   {
    "duration": 288,
    "start_time": "2021-09-10T21:40:27.009Z"
   },
   {
    "duration": 389,
    "start_time": "2021-09-10T21:40:27.299Z"
   },
   {
    "duration": 67,
    "start_time": "2021-09-10T21:40:27.690Z"
   },
   {
    "duration": 64,
    "start_time": "2021-09-10T21:40:27.759Z"
   },
   {
    "duration": 54,
    "start_time": "2021-09-10T21:40:27.825Z"
   },
   {
    "duration": 38,
    "start_time": "2021-09-10T21:40:27.882Z"
   },
   {
    "duration": 740,
    "start_time": "2021-09-10T21:40:27.922Z"
   },
   {
    "duration": 794,
    "start_time": "2021-09-10T21:40:28.664Z"
   },
   {
    "duration": 257,
    "start_time": "2021-09-10T21:40:29.460Z"
   },
   {
    "duration": 215,
    "start_time": "2021-09-10T21:40:29.719Z"
   },
   {
    "duration": 86,
    "start_time": "2021-09-10T21:40:29.936Z"
   },
   {
    "duration": 174,
    "start_time": "2021-09-10T21:40:30.024Z"
   },
   {
    "duration": 53,
    "start_time": "2021-09-10T21:40:30.200Z"
   },
   {
    "duration": 325,
    "start_time": "2021-09-10T21:40:30.255Z"
   },
   {
    "duration": 491,
    "start_time": "2021-09-10T21:40:30.582Z"
   },
   {
    "duration": 10,
    "start_time": "2021-09-10T21:40:31.075Z"
   },
   {
    "duration": 138,
    "start_time": "2021-09-10T21:40:31.087Z"
   },
   {
    "duration": 2037,
    "start_time": "2021-09-14T22:41:48.476Z"
   },
   {
    "duration": 20,
    "start_time": "2021-09-14T22:41:50.515Z"
   },
   {
    "duration": 12,
    "start_time": "2021-09-14T22:41:50.537Z"
   },
   {
    "duration": 12,
    "start_time": "2021-09-14T22:41:50.551Z"
   },
   {
    "duration": 24,
    "start_time": "2021-09-14T22:41:50.565Z"
   },
   {
    "duration": 117,
    "start_time": "2021-09-14T22:41:50.591Z"
   },
   {
    "duration": 569,
    "start_time": "2021-09-14T22:41:50.710Z"
   },
   {
    "duration": 842,
    "start_time": "2021-09-14T22:41:51.282Z"
   },
   {
    "duration": 57,
    "start_time": "2021-09-14T22:41:52.126Z"
   },
   {
    "duration": 137,
    "start_time": "2021-09-14T22:41:52.184Z"
   },
   {
    "duration": 143,
    "start_time": "2021-09-14T22:41:52.322Z"
   },
   {
    "duration": 294,
    "start_time": "2021-09-14T22:41:52.468Z"
   },
   {
    "duration": 578,
    "start_time": "2021-09-14T22:41:52.765Z"
   },
   {
    "duration": 7,
    "start_time": "2021-09-14T22:41:53.345Z"
   },
   {
    "duration": 239,
    "start_time": "2021-09-14T22:41:53.354Z"
   },
   {
    "duration": 171,
    "start_time": "2021-09-14T22:41:53.595Z"
   },
   {
    "duration": 288,
    "start_time": "2021-09-14T22:41:53.768Z"
   },
   {
    "duration": 301,
    "start_time": "2021-09-14T22:41:54.058Z"
   },
   {
    "duration": 389,
    "start_time": "2021-09-14T22:41:54.361Z"
   },
   {
    "duration": 54,
    "start_time": "2021-09-14T22:41:54.751Z"
   },
   {
    "duration": 79,
    "start_time": "2021-09-14T22:41:54.807Z"
   },
   {
    "duration": 41,
    "start_time": "2021-09-14T22:41:54.887Z"
   },
   {
    "duration": 47,
    "start_time": "2021-09-14T22:41:54.931Z"
   },
   {
    "duration": 779,
    "start_time": "2021-09-14T22:41:54.980Z"
   },
   {
    "duration": 738,
    "start_time": "2021-09-14T22:41:55.761Z"
   },
   {
    "duration": 260,
    "start_time": "2021-09-14T22:41:56.500Z"
   },
   {
    "duration": 215,
    "start_time": "2021-09-14T22:41:56.761Z"
   },
   {
    "duration": 94,
    "start_time": "2021-09-14T22:41:56.978Z"
   },
   {
    "duration": 153,
    "start_time": "2021-09-14T22:41:57.074Z"
   },
   {
    "duration": 44,
    "start_time": "2021-09-14T22:41:57.229Z"
   },
   {
    "duration": 310,
    "start_time": "2021-09-14T22:41:57.275Z"
   },
   {
    "duration": 488,
    "start_time": "2021-09-14T22:41:57.586Z"
   },
   {
    "duration": 9,
    "start_time": "2021-09-14T22:41:58.075Z"
   },
   {
    "duration": 134,
    "start_time": "2021-09-14T22:41:58.086Z"
   },
   {
    "duration": 1034,
    "start_time": "2021-09-14T23:40:07.633Z"
   },
   {
    "duration": 838,
    "start_time": "2021-09-14T23:42:57.571Z"
   },
   {
    "duration": 2454,
    "start_time": "2021-09-16T10:15:55.625Z"
   },
   {
    "duration": 20,
    "start_time": "2021-09-16T10:15:58.081Z"
   },
   {
    "duration": 11,
    "start_time": "2021-09-16T10:15:58.102Z"
   },
   {
    "duration": 10,
    "start_time": "2021-09-16T10:15:58.115Z"
   },
   {
    "duration": 38,
    "start_time": "2021-09-16T10:15:58.127Z"
   },
   {
    "duration": 100,
    "start_time": "2021-09-16T10:15:58.167Z"
   },
   {
    "duration": 527,
    "start_time": "2021-09-16T10:15:58.269Z"
   },
   {
    "duration": 826,
    "start_time": "2021-09-16T10:15:58.799Z"
   },
   {
    "duration": 52,
    "start_time": "2021-09-16T10:15:59.627Z"
   },
   {
    "duration": 129,
    "start_time": "2021-09-16T10:15:59.681Z"
   },
   {
    "duration": 135,
    "start_time": "2021-09-16T10:15:59.812Z"
   },
   {
    "duration": 1190,
    "start_time": "2021-09-16T10:15:59.949Z"
   },
   {
    "duration": 11,
    "start_time": "2021-09-16T10:16:01.140Z"
   },
   {
    "duration": 232,
    "start_time": "2021-09-16T10:16:01.153Z"
   },
   {
    "duration": 95,
    "start_time": "2021-09-16T10:16:01.387Z"
   },
   {
    "duration": 285,
    "start_time": "2021-09-16T10:16:01.485Z"
   },
   {
    "duration": 339,
    "start_time": "2021-09-16T10:16:01.772Z"
   },
   {
    "duration": 885,
    "start_time": "2021-09-16T10:16:02.112Z"
   },
   {
    "duration": 76,
    "start_time": "2021-09-16T10:16:02.999Z"
   },
   {
    "duration": 75,
    "start_time": "2021-09-16T10:16:03.077Z"
   },
   {
    "duration": 42,
    "start_time": "2021-09-16T10:16:03.154Z"
   },
   {
    "duration": 52,
    "start_time": "2021-09-16T10:16:03.197Z"
   },
   {
    "duration": 724,
    "start_time": "2021-09-16T10:16:03.253Z"
   },
   {
    "duration": 749,
    "start_time": "2021-09-16T10:16:03.980Z"
   },
   {
    "duration": 238,
    "start_time": "2021-09-16T10:16:04.731Z"
   },
   {
    "duration": 207,
    "start_time": "2021-09-16T10:16:04.971Z"
   },
   {
    "duration": 959,
    "start_time": "2021-09-16T10:16:05.180Z"
   },
   {
    "duration": 724,
    "start_time": "2021-09-16T10:16:06.141Z"
   },
   {
    "duration": 14,
    "start_time": "2021-09-16T10:16:06.867Z"
   },
   {
    "duration": 396,
    "start_time": "2021-09-16T10:16:06.883Z"
   },
   {
    "duration": 308,
    "start_time": "2021-09-16T10:16:07.281Z"
   },
   {
    "duration": 36,
    "start_time": "2021-09-16T10:16:07.591Z"
   },
   {
    "duration": 4,
    "start_time": "2021-09-16T10:16:07.629Z"
   },
   {
    "duration": 245,
    "start_time": "2021-09-16T10:16:07.650Z"
   },
   {
    "duration": 782,
    "start_time": "2021-09-16T10:16:07.896Z"
   }
  ],
  "hide_input": false,
  "kernelspec": {
   "display_name": "Python 3",
   "language": "python",
   "name": "python3"
  },
  "language_info": {
   "codemirror_mode": {
    "name": "ipython",
    "version": 3
   },
   "file_extension": ".py",
   "mimetype": "text/x-python",
   "name": "python",
   "nbconvert_exporter": "python",
   "pygments_lexer": "ipython3",
   "version": "3.8.5"
  },
  "toc": {
   "base_numbering": 1,
   "nav_menu": {},
   "number_sections": true,
   "sideBar": true,
   "skip_h1_title": true,
   "title_cell": "Table of Contents",
   "title_sidebar": "Contents",
   "toc_cell": false,
   "toc_position": {},
   "toc_section_display": true,
   "toc_window_display": true
  }
 },
 "nbformat": 4,
 "nbformat_minor": 2
}
